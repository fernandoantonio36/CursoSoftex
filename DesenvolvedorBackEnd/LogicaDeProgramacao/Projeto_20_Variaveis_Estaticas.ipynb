{
  "nbformat": 4,
  "nbformat_minor": 0,
  "metadata": {
    "colab": {
      "name": "Projeto_20_Variaveis_Estaticas",
      "provenance": [],
      "collapsed_sections": [],
      "authorship_tag": "ABX9TyPYY4Ash4RX37rVrdoXPngY",
      "include_colab_link": true
    },
    "kernelspec": {
      "name": "python3",
      "display_name": "Python 3"
    },
    "language_info": {
      "name": "python"
    }
  },
  "cells": [
    {
      "cell_type": "markdown",
      "metadata": {
        "id": "view-in-github",
        "colab_type": "text"
      },
      "source": [
        "<a href=\"https://colab.research.google.com/github/fernandoantonio36/CursoSoftex/blob/main/Projeto_20_Variaveis_Estaticas.ipynb\" target=\"_parent\"><img src=\"https://colab.research.google.com/assets/colab-badge.svg\" alt=\"Open In Colab\"/></a>"
      ]
    },
    {
      "cell_type": "markdown",
      "source": [
        "## Programação Orientada a Objetos - Variáveis Estáticas\n",
        "Crie uma classe de sua preferência com, no mínimo, uma variável, um método e um incremento. Depois, desenvolva três ou mais objetos para testar o código."
      ],
      "metadata": {
        "id": "XGPDlBrRMRDw"
      }
    },
    {
      "cell_type": "markdown",
      "source": [
        "#### Classe Pessoa"
      ],
      "metadata": {
        "id": "V2tSKg8sf6cz"
      }
    },
    {
      "cell_type": "code",
      "source": [
        "#Classe Pessoa\n",
        "class Pessoa:\n",
        "\n",
        "  totalPessoas = 0 # Variável da classe pessoa, acessada por qualquer objeto\n",
        "\n",
        "  def __init__(self, nome, idade):\n",
        "    Pessoa.totalPessoas += 1\n",
        "    self.nome = nome\n",
        "    self.idade = idade\n",
        "  def get_id(self):\n",
        "        return self.identidade\n",
        "            \n",
        "  def get_nome(self):\n",
        "    return self.nome  \n",
        "\n",
        "  def get_idade(self):\n",
        "    return self.idade\n",
        "\n"
      ],
      "metadata": {
        "id": "4YVCa9u5gCvF"
      },
      "execution_count": 3,
      "outputs": []
    },
    {
      "cell_type": "markdown",
      "source": [
        "#### Testando o acesso à variável da classe por objetos diferentes"
      ],
      "metadata": {
        "id": "psyVI51YRv11"
      }
    },
    {
      "cell_type": "code",
      "source": [
        "pessoa = Pessoa(\"Joyce\", 25)"
      ],
      "metadata": {
        "id": "1LDgBcINPlqp"
      },
      "execution_count": 4,
      "outputs": []
    },
    {
      "cell_type": "code",
      "source": [
        "print(pessoa.totalPessoas)"
      ],
      "metadata": {
        "colab": {
          "base_uri": "https://localhost:8080/"
        },
        "id": "Iogyb8mIQzbB",
        "outputId": "7f94e169-bbbb-44de-a2d8-713e52795c98"
      },
      "execution_count": 5,
      "outputs": [
        {
          "output_type": "stream",
          "name": "stdout",
          "text": [
            "1\n"
          ]
        }
      ]
    },
    {
      "cell_type": "code",
      "source": [
        "pessoa2 = Pessoa(\"Pedro\", 34)"
      ],
      "metadata": {
        "id": "EDkiGePtQ9Qu"
      },
      "execution_count": 6,
      "outputs": []
    },
    {
      "cell_type": "code",
      "source": [
        "print(pessoa.totalPessoas)\n",
        "print(pessoa2.totalPessoas) \n",
        "#ambos objetos acessam a mesma variável da classe Pessoa, por isso, \n",
        "#os dois prints apresentam o mesmo valor, mesmo de objetos diferentes"
      ],
      "metadata": {
        "colab": {
          "base_uri": "https://localhost:8080/"
        },
        "id": "VHTcJQFORFz1",
        "outputId": "24806572-2dc9-4df0-c358-0a3c1366778a"
      },
      "execution_count": 7,
      "outputs": [
        {
          "output_type": "stream",
          "name": "stdout",
          "text": [
            "2\n",
            "2\n"
          ]
        }
      ]
    }
  ]
}

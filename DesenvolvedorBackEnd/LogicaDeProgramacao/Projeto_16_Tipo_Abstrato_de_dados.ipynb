{
  "nbformat": 4,
  "nbformat_minor": 0,
  "metadata": {
    "colab": {
      "name": "Projeto 16 - Tipo_Abstrato_de_dados",
      "provenance": [],
      "collapsed_sections": [],
      "authorship_tag": "ABX9TyPEw6Uy5Cfb8ur5qcls9xIb",
      "include_colab_link": true
    },
    "kernelspec": {
      "name": "python3",
      "display_name": "Python 3"
    },
    "language_info": {
      "name": "python"
    }
  },
  "cells": [
    {
      "cell_type": "markdown",
      "metadata": {
        "id": "view-in-github",
        "colab_type": "text"
      },
      "source": [
        "<a href=\"https://colab.research.google.com/github/fernandoantonio36/CursoSoftex/blob/main/Projeto_16_Tipo_Abstrato_de_dados.ipynb\" target=\"_parent\"><img src=\"https://colab.research.google.com/assets/colab-badge.svg\" alt=\"Open In Colab\"/></a>"
      ]
    },
    {
      "cell_type": "markdown",
      "source": [
        "## Tipo Abstrato de Dados (TAD)\n",
        "\n",
        "Crie um tipo abstrato de dado (TAD) para manipular números complexos na linguagem Python.\n",
        "O método deve:\n",
        "\n",
        "- calcular três números complexos;\n",
        "- realizar todas as operações básicas;\n",
        "- e imprimir as propriedades real e img do números. \n",
        "\n",
        "\n"
      ],
      "metadata": {
        "id": "XGPDlBrRMRDw"
      }
    },
    {
      "cell_type": "markdown",
      "source": [
        "#### Classe dos Números Complexos"
      ],
      "metadata": {
        "id": "9WA1ifRnvR30"
      }
    },
    {
      "cell_type": "code",
      "source": [
        "class NumerosComplexos:\n",
        "   def __init__(self, complexo):\n",
        "     self.s = complexo\n",
        "     self.real = 0\n",
        "     self.imaginaria = 0\n",
        "\n",
        "   def get_complex(self):\n",
        "     if(self.s.find(\"+\")==-1):\n",
        "       if(self.s[0]== \"-\"):\n",
        "         self.s = self.s[1:]\n",
        "         if(self.s.find(\"-\") != -1):\n",
        "           real, interm = self.s.rsplit(\"-\")\n",
        "           self.real = int(\"-\"+real)\n",
        "           imaginaria, vazio = interm.rsplit(\"j\")\n",
        "           self.imaginaria = int(\"-\"+imaginaria)\n",
        "         else:\n",
        "           real, interm = self.s.rsplit(\"-\")\n",
        "           self.real = int(\"-\"+real)\n",
        "           imaginaria, vazio = interm.rsplit(\"j\")\n",
        "           self.imaginaria = int(\"-\"+imaginaria)\n",
        "\n",
        "       else:\n",
        "         real, interm = self.s.rsplit(\"-\")\n",
        "         self.real = int(real)\n",
        "         imaginaria, vazio = interm.rsplit(\"j\")\n",
        "         self.imaginaria = int(\"-\"+imaginaria)\n",
        "     \n",
        "     else:\n",
        "       real,interm = self.s.rsplit(\"+\")\n",
        "       self.real = int(real)\n",
        "       imaginaria, vazio = interm.rsplit(\"j\")\n",
        "       self.imaginaria = int(imaginaria)\n",
        "     return self.real, self.imaginaria\n",
        "   def get_real(self):\n",
        "     return self.real\n",
        "   def get_imaginaria(self):\n",
        "     return self.imaginaria\n"
      ],
      "metadata": {
        "id": "djQjgsC-ZFsw"
      },
      "execution_count": 58,
      "outputs": []
    },
    {
      "cell_type": "code",
      "source": [
        "\n",
        "class CalculoComplexo:\n",
        "   def __init__(self, complexo1, complexo2):\n",
        "     self.complexo1 = complexo1\n",
        "     self.complexo2 = complexo2\n",
        "\n",
        "   def somar(complexo1, complexo2):\n",
        "     resReal = int(complexo1.get_real()) + int(complexo2.get_real())\n",
        "     resImaginario = int(complexo1.get_imaginaria()) + int(complexo2.get_imaginaria())\n",
        "     #if(resReal < 0):\n",
        "     #  complexo = \"-\"+str(resReal)+ \"+\" +str(resImaginario)+\"j\"\n",
        "     if(resImaginario < 0):\n",
        "       complexo = \"\"+str(resReal)+ \"\" +str(resImaginario)+\"j\"\n",
        "     else:\n",
        "       complexo = \"\"+str(resReal)+ \"+\" +str(resImaginario)+\"j\"\n",
        "     return complexo\n",
        "\n",
        "   def subtrair(complexo1, complexo2):\n",
        "     resReal = int(complexo1.get_real()) - int(complexo2.get_real())\n",
        "     resImaginario = int(complexo1.get_imaginaria()) - int(complexo2.get_imaginaria())\n",
        "     #if(resReal < 0):\n",
        "     #  complexo = \"-\"+str(resReal)+ \"+\" +str(resImaginario)+\"j\"\n",
        "     if(resImaginario < 0):\n",
        "       complexo = \"\"+str(resReal)+ \"\" +str(resImaginario)+\"j\"\n",
        "     else:\n",
        "       complexo = \"\"+str(resReal)+ \"+\" +str(resImaginario)+\"j\"\n",
        "     return complexo\n",
        "   \n",
        "   def multiplicar(complexo1, complexo2):\n",
        "     a = float(complexo1.get_real())\n",
        "     b = float(complexo1.get_imaginaria())\n",
        "     c = float(complexo2.get_real())\n",
        "     d = float(complexo2.get_imaginaria())\n",
        "     mult_real = ((a*c)-(b*d))\n",
        "     mult_imag = ((a*d)+(b*c))\n",
        "     if(mult_imag < 0):\n",
        "       complexo = \"\"+str(mult_real)+ \"\" +str(mult_imag)+\"j\"\n",
        "     else:\n",
        "       complexo = \"\"+str(mult_real)+ \"+\" +str(mult_imag)+\"j\"\n",
        "     return complexo\n",
        "   \n",
        "   def dividir(complexo1, complexo2):\n",
        "     a = float(complexo1.get_real())\n",
        "     b = float(complexo1.get_imaginaria())\n",
        "     c = float(complexo2.get_real())\n",
        "     d = float(complexo2.get_imaginaria())\n",
        "     div_real = ((a*c)+(b*d))/((c**2)+(d**2))\n",
        "     div_imag = ((b*c)-(a*d))/((c**2)+(d**2))\n",
        "     if(div_imag < 0):\n",
        "       complexo = \"\"+str(div_real)+ \"\" +str(div_imag)+\"j\"\n",
        "     else:\n",
        "       complexo = \"\"+str(div_real)+ \"+\" +str(div_imag)+\"j\"\n",
        "     return complexo"
      ],
      "metadata": {
        "id": "XAJIRCxCKMmA"
      },
      "execution_count": 74,
      "outputs": []
    },
    {
      "cell_type": "markdown",
      "source": [
        "#### Criando objetos do tipo Complexo"
      ],
      "metadata": {
        "id": "ttgkILCpZNxw"
      }
    },
    {
      "cell_type": "code",
      "source": [
        "complex1 = NumerosComplexos(\"2+3j\")\n",
        "complex2 = NumerosComplexos(\"3+1j\")\n",
        "complex3 = NumerosComplexos(\"-3-15j\")"
      ],
      "metadata": {
        "id": "WcRGLhy8DRPS"
      },
      "execution_count": 59,
      "outputs": []
    },
    {
      "cell_type": "code",
      "source": [
        "\n",
        "print(complex1.get_complex())\n",
        "\n",
        "\n",
        "print(complex2.get_complex())\n",
        "\n",
        "print(complex3.get_complex())"
      ],
      "metadata": {
        "colab": {
          "base_uri": "https://localhost:8080/"
        },
        "id": "sUtqDLMbNET1",
        "outputId": "18031610-67c7-4c93-ad2e-c4b179b13057"
      },
      "execution_count": 60,
      "outputs": [
        {
          "output_type": "stream",
          "name": "stdout",
          "text": [
            "(2, 3)\n",
            "(3, 1)\n",
            "(-3, -15)\n"
          ]
        }
      ]
    },
    {
      "cell_type": "markdown",
      "source": [
        "#### Realizando as operações básicas\n",
        "1. Soma\n",
        "2. Subtração\n",
        "3. Multiplicação\n",
        "4. Divisão"
      ],
      "metadata": {
        "id": "5rzezGsiNNUF"
      }
    },
    {
      "cell_type": "code",
      "source": [
        "soma = CalculoComplexo.somar(complex1,complex3)\n",
        "print(soma)"
      ],
      "metadata": {
        "colab": {
          "base_uri": "https://localhost:8080/"
        },
        "id": "cY0aXSJENW4i",
        "outputId": "c4fac061-4c35-4a28-a748-b3c3a3ea9ca1"
      },
      "execution_count": 61,
      "outputs": [
        {
          "output_type": "stream",
          "name": "stdout",
          "text": [
            "-1-12j\n"
          ]
        }
      ]
    },
    {
      "cell_type": "code",
      "source": [
        "soma = CalculoComplexo.somar(complex1,complex2)\n",
        "print(soma)"
      ],
      "metadata": {
        "colab": {
          "base_uri": "https://localhost:8080/"
        },
        "id": "dvn9p1dSsa46",
        "outputId": "fa7b807a-934e-41a6-afbd-24f873b5857f"
      },
      "execution_count": 63,
      "outputs": [
        {
          "output_type": "stream",
          "name": "stdout",
          "text": [
            "5+4j\n"
          ]
        }
      ]
    },
    {
      "cell_type": "code",
      "source": [
        "subtracao = CalculoComplexo.subtrair(complex1, complex3)\n",
        "print(subtracao)"
      ],
      "metadata": {
        "colab": {
          "base_uri": "https://localhost:8080/"
        },
        "id": "wl1HZboLZ7Nn",
        "outputId": "db0e1bf0-45ac-404c-cbb7-06160183649a"
      },
      "execution_count": 65,
      "outputs": [
        {
          "output_type": "stream",
          "name": "stdout",
          "text": [
            "5+18j\n"
          ]
        }
      ]
    },
    {
      "cell_type": "code",
      "source": [
        "subtracao = CalculoComplexo.subtrair(complex1, complex2)\n",
        "print(subtracao)"
      ],
      "metadata": {
        "colab": {
          "base_uri": "https://localhost:8080/"
        },
        "id": "VbDAtMz-slTn",
        "outputId": "da2f366d-07a7-4de7-d795-59f67c5308cc"
      },
      "execution_count": 66,
      "outputs": [
        {
          "output_type": "stream",
          "name": "stdout",
          "text": [
            "-1+2j\n"
          ]
        }
      ]
    },
    {
      "cell_type": "code",
      "source": [
        "multiplicacao = CalculoComplexo.multiplicar(complex1,complex2)\n",
        "print(multiplicacao)"
      ],
      "metadata": {
        "colab": {
          "base_uri": "https://localhost:8080/"
        },
        "id": "8N-wzFkzsi2H",
        "outputId": "84d38f76-7e18-4ccd-9044-0d891406499e"
      },
      "execution_count": 68,
      "outputs": [
        {
          "output_type": "stream",
          "name": "stdout",
          "text": [
            "3.0+11.0j\n"
          ]
        }
      ]
    },
    {
      "cell_type": "code",
      "source": [
        "divisao = CalculoComplexo.dividir(complex1,complex2)\n",
        "print(divisao)"
      ],
      "metadata": {
        "colab": {
          "base_uri": "https://localhost:8080/"
        },
        "id": "h_pf2QOJs1JY",
        "outputId": "c3f3aff6-9654-4b7a-f34e-eeb8580d0acc"
      },
      "execution_count": 75,
      "outputs": [
        {
          "output_type": "stream",
          "name": "stdout",
          "text": [
            "0.9+0.7j\n"
          ]
        }
      ]
    }
  ]
}

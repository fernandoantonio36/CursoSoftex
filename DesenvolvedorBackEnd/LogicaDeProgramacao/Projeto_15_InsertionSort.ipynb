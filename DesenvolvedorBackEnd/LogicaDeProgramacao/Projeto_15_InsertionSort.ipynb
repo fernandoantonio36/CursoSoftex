{
  "nbformat": 4,
  "nbformat_minor": 0,
  "metadata": {
    "colab": {
      "name": "Projeto 15 - InsertionSort",
      "provenance": [],
      "collapsed_sections": [],
      "authorship_tag": "ABX9TyPRnzDCDdgExDbSvANovLO+",
      "include_colab_link": true
    },
    "kernelspec": {
      "name": "python3",
      "display_name": "Python 3"
    },
    "language_info": {
      "name": "python"
    }
  },
  "cells": [
    {
      "cell_type": "markdown",
      "metadata": {
        "id": "view-in-github",
        "colab_type": "text"
      },
      "source": [
        "<a href=\"https://colab.research.google.com/github/fernandoantonio36/CursoSoftex/blob/main/Projeto_15_InsertionSort.ipynb\" target=\"_parent\"><img src=\"https://colab.research.google.com/assets/colab-badge.svg\" alt=\"Open In Colab\"/></a>"
      ]
    },
    {
      "cell_type": "markdown",
      "source": [
        "##Algoritmo de Ordenação InsertionSort\n",
        "\n",
        "Faça um algoritmo de ordenação utilizando o método insertion sort.\n",
        "Crie um método que execute as seguintes operações:\n",
        "\n",
        "- Tamanho do vetor: 30;\n",
        "- Utilize números ímpares;\n",
        "- Opere em ordem crescente.\n",
        "\n",
        "\n"
      ],
      "metadata": {
        "id": "XGPDlBrRMRDw"
      }
    },
    {
      "cell_type": "markdown",
      "source": [
        "#### Função InsertionSort"
      ],
      "metadata": {
        "id": "9WA1ifRnvR30"
      }
    },
    {
      "cell_type": "code",
      "source": [
        "def insertionSort( lista ):\n",
        "  for i in range( 1, len( lista ) ):\n",
        "    chave = lista[i]\n",
        "    k = i\n",
        "    while k > 0 and chave < lista[k - 1]:\n",
        "        lista[k] = lista[k - 1]\n",
        "        k -= 1\n",
        "    lista[k] = chave"
      ],
      "metadata": {
        "id": "djQjgsC-ZFsw"
      },
      "execution_count": 1,
      "outputs": []
    },
    {
      "cell_type": "markdown",
      "source": [
        "#### Execução do código insertionSort"
      ],
      "metadata": {
        "id": "ttgkILCpZNxw"
      }
    },
    {
      "cell_type": "code",
      "source": [
        "array = [33,3,15,7,1,9,47,23,19]\n",
        "insertionSort(array)\n",
        "print(array)"
      ],
      "metadata": {
        "id": "cTVVa6_gK6JU",
        "colab": {
          "base_uri": "https://localhost:8080/"
        },
        "outputId": "7f06281f-a8c6-43cd-a150-09821188b290"
      },
      "execution_count": 2,
      "outputs": [
        {
          "output_type": "stream",
          "name": "stdout",
          "text": [
            "[1, 3, 7, 9, 15, 19, 23, 33, 47]\n"
          ]
        }
      ]
    }
  ]
}

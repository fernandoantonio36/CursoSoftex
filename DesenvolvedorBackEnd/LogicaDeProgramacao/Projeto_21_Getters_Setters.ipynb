{
  "nbformat": 4,
  "nbformat_minor": 0,
  "metadata": {
    "colab": {
      "name": "Projeto_21_Getters_Setters",
      "provenance": [],
      "collapsed_sections": [],
      "authorship_tag": "ABX9TyMFLOOTGzLUSrkpfuF30uq8",
      "include_colab_link": true
    },
    "kernelspec": {
      "name": "python3",
      "display_name": "Python 3"
    },
    "language_info": {
      "name": "python"
    }
  },
  "cells": [
    {
      "cell_type": "markdown",
      "metadata": {
        "id": "view-in-github",
        "colab_type": "text"
      },
      "source": [
        "<a href=\"https://colab.research.google.com/github/fernandoantonio36/CursoSoftex/blob/main/Projeto_21_Getters_Setters.ipynb\" target=\"_parent\"><img src=\"https://colab.research.google.com/assets/colab-badge.svg\" alt=\"Open In Colab\"/></a>"
      ]
    },
    {
      "cell_type": "markdown",
      "source": [
        "## Programação Orientada a Objetos - Métodos Getters e Setters\n",
        "\n",
        "Crie uma classe e insira nela, no mínimo, dois atributos, os quais devem ter um método acessor (get) e um método modificador (set) para cada. Defina um objeto para cada atributo e elabore um construtor para criar alguma regra.\n",
        "\n",
        "A atividade pode ser realizada em qualquer linguagem de programação ou apenas utilizando algoritmos."
      ],
      "metadata": {
        "id": "XGPDlBrRMRDw"
      }
    },
    {
      "cell_type": "markdown",
      "source": [
        "#### Classe Pessoa"
      ],
      "metadata": {
        "id": "V2tSKg8sf6cz"
      }
    },
    {
      "cell_type": "code",
      "source": [
        "#Classe Pessoa\n",
        "class Pessoa:\n",
        "  def __init__(self, id, nome, idade):\n",
        "    if(0<idade<120):\n",
        "      self.__identidade = id #atributo privado. \"__\" antes da variável indica que a variável é privada\n",
        "      self.__nome = nome   #atributo privado. \"__\" antes da variável indica que a variável é privada\n",
        "      self.__idade = idade  #atributo privado. \"__\" antes da variável indica que a variável é privada\n",
        "  \n",
        "  def get_id(self):\n",
        "        return self.__identidade\n",
        "            \n",
        "  def get_nome(self):\n",
        "    return self.__nome  \n",
        "  \n",
        "  def set_nome(self, nome):\n",
        "    self.__nome = nome\n",
        "\n",
        "  def get_idade(self):\n",
        "    return self.__idade"
      ],
      "metadata": {
        "id": "UJ3fKSlEi714"
      },
      "execution_count": 4,
      "outputs": []
    }
  ]
}

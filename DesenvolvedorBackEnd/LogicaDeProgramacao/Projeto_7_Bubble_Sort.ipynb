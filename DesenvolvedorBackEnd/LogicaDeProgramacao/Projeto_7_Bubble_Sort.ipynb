{
  "nbformat": 4,
  "nbformat_minor": 0,
  "metadata": {
    "colab": {
      "name": "Projeto 7 - Bubble Sort",
      "provenance": [],
      "collapsed_sections": [],
      "authorship_tag": "ABX9TyOmmgSyk1UHUOzs8cdIqKxH",
      "include_colab_link": true
    },
    "kernelspec": {
      "name": "python3",
      "display_name": "Python 3"
    },
    "language_info": {
      "name": "python"
    }
  },
  "cells": [
    {
      "cell_type": "markdown",
      "metadata": {
        "id": "view-in-github",
        "colab_type": "text"
      },
      "source": [
        "<a href=\"https://colab.research.google.com/github/fernandoantonio36/CursoSoftex/blob/main/Projeto_7_Bubble_Sort.ipynb\" target=\"_parent\"><img src=\"https://colab.research.google.com/assets/colab-badge.svg\" alt=\"Open In Colab\"/></a>"
      ]
    },
    {
      "cell_type": "markdown",
      "source": [
        "##Método de Ordenação Bubble Sort\n",
        "\n",
        "Construa um algoritmo de ordenação, utilizando o método bubble sort estudado. (Lembre-se que se trata de uma série de instruções que devem ser seguidas passo a passo).\n",
        "Para isso, você deve criar um método em que o tamanho do vetor seja dez e deve estar em ordem crescente.\n",
        "\n",
        "O vetor deverá:\n",
        "- comparar seus elementos dois a dois adjacentes;\n",
        "- se os elementos não estiverem em ordem, então ordenar;\n",
        "- senão, avançar para o próximo par;\n",
        "- repetir a operação até que nenhuma troca possa ser feita no vetor inteiro."
      ],
      "metadata": {
        "id": "XGPDlBrRMRDw"
      }
    },
    {
      "cell_type": "markdown",
      "source": [
        "#### Função BubbleSort"
      ],
      "metadata": {
        "id": "9WA1ifRnvR30"
      }
    },
    {
      "cell_type": "code",
      "source": [
        "def bubbleSort(lista):\n",
        "  for i in range(len(lista)-1,0,-1):\n",
        "    for j in range(i):\n",
        "      if(lista[j]>lista[j+1]):\n",
        "        temp = lista[j]\n",
        "        lista[j] = lista[j+1]\n",
        "        lista[j+1] = temp\n",
        "\n",
        "  "
      ],
      "metadata": {
        "id": "6tk_q9QJtDys"
      },
      "execution_count": 1,
      "outputs": []
    },
    {
      "cell_type": "code",
      "source": [
        ""
      ],
      "metadata": {
        "id": "cTVVa6_gK6JU"
      },
      "execution_count": null,
      "outputs": []
    },
    {
      "cell_type": "markdown",
      "source": [
        "#### Execução do método"
      ],
      "metadata": {
        "id": "v579nBgwjkxS"
      }
    },
    {
      "cell_type": "code",
      "source": [
        "lista = [33,25,32,18,3,56,19,35,23,14,10,27,42,1,5]\n",
        "bubbleSort(lista)\n",
        "print(lista)"
      ],
      "metadata": {
        "colab": {
          "base_uri": "https://localhost:8080/"
        },
        "id": "WAwDeoL5jsrK",
        "outputId": "16ba9aad-4a01-4a3a-fbed-5bdf85251625"
      },
      "execution_count": 4,
      "outputs": [
        {
          "output_type": "stream",
          "name": "stdout",
          "text": [
            "[1, 3, 5, 10, 14, 18, 19, 23, 25, 27, 32, 33, 35, 42, 56]\n"
          ]
        }
      ]
    }
  ]
}

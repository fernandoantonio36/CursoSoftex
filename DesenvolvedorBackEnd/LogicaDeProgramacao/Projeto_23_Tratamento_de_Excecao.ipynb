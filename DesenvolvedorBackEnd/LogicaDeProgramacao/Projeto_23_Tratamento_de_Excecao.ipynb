{
  "nbformat": 4,
  "nbformat_minor": 0,
  "metadata": {
    "colab": {
      "name": "Projeto_23_Tratamento_de_Excecao",
      "provenance": [],
      "collapsed_sections": [],
      "authorship_tag": "ABX9TyPbGxS5y/iTJD1l6+NnYdXV",
      "include_colab_link": true
    },
    "kernelspec": {
      "name": "python3",
      "display_name": "Python 3"
    },
    "language_info": {
      "name": "python"
    }
  },
  "cells": [
    {
      "cell_type": "markdown",
      "metadata": {
        "id": "view-in-github",
        "colab_type": "text"
      },
      "source": [
        "<a href=\"https://colab.research.google.com/github/fernandoantonio36/CursoSoftex/blob/main/Projeto_23_Tratamento_de_Excecao.ipynb\" target=\"_parent\"><img src=\"https://colab.research.google.com/assets/colab-badge.svg\" alt=\"Open In Colab\"/></a>"
      ]
    },
    {
      "cell_type": "markdown",
      "source": [
        "## Programação Orientada a Objetos - Tratamento de Exceção\n",
        "\n",
        "Crie uma situação em que ocorra uma exceção dentro de um código. Utilize try/catch para realizar a captura e tratamento dessa exceção."
      ],
      "metadata": {
        "id": "XGPDlBrRMRDw"
      }
    },
    {
      "cell_type": "markdown",
      "source": [
        "#### Função 1 - Tratar exceção\n"
      ],
      "metadata": {
        "id": "V2tSKg8sf6cz"
      }
    },
    {
      "cell_type": "code",
      "source": [
        "a = 2\n",
        "b = 0\n",
        "try:\n",
        "  print(a/b)\n",
        "except ZeroDivisionError as erro:\n",
        "  print(erro)\n"
      ],
      "metadata": {
        "id": "HANkdRbf7lDT",
        "colab": {
          "base_uri": "https://localhost:8080/"
        },
        "outputId": "f5f31b6e-fa50-4f31-e0ac-460d67bb287c"
      },
      "execution_count": 3,
      "outputs": [
        {
          "output_type": "stream",
          "name": "stdout",
          "text": [
            "division by zero\n"
          ]
        }
      ]
    }
  ]
}

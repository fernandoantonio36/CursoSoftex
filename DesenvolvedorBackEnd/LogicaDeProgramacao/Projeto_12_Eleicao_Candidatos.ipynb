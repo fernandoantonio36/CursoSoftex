{
  "nbformat": 4,
  "nbformat_minor": 0,
  "metadata": {
    "colab": {
      "name": "Projeto_12_Eleicao_Candidatos",
      "provenance": [],
      "collapsed_sections": [],
      "authorship_tag": "ABX9TyMH7lbDmqiOe+EXN0bL4pZQ",
      "include_colab_link": true
    },
    "kernelspec": {
      "name": "python3",
      "display_name": "Python 3"
    },
    "language_info": {
      "name": "python"
    }
  },
  "cells": [
    {
      "cell_type": "markdown",
      "metadata": {
        "id": "view-in-github",
        "colab_type": "text"
      },
      "source": [
        "<a href=\"https://colab.research.google.com/github/fernandoantonio36/CursoSoftex/blob/main/Projeto_12_Eleicao_Candidatos.ipynb\" target=\"_parent\"><img src=\"https://colab.research.google.com/assets/colab-badge.svg\" alt=\"Open In Colab\"/></a>"
      ]
    },
    {
      "cell_type": "markdown",
      "source": [
        "##Projeto Eleição de Candidatos\n",
        "Desenvolva um código que simule uma eleição com três candidatos.\n",
        "- candidato_X => 889\n",
        "- candidato_Y => 847\n",
        "- candidato_Z => 515\n",
        "- branco => 0\n",
        "\n",
        "O código deve perguntar se deseja finalizar a votação depois do voto. Caso o número do voto não corresponda a nenhum candidato ou seja branco, ele deve ser tratado como nulo. Se for inserido um texto ao invés de número, o código deve retornar uma mensagem para votar novamente.\n",
        "\n",
        "Quando a votação for finalizada, o código deverá mostrar o vencedor, aquele com o maior número de votos e, também, a quantidade de votos de cada candidato, os brancos e nulos "
      ],
      "metadata": {
        "id": "XGPDlBrRMRDw"
      }
    },
    {
      "cell_type": "markdown",
      "source": [
        "#### Importando biblioteca"
      ],
      "metadata": {
        "id": "Nu7R1U7gl1Hr"
      }
    },
    {
      "cell_type": "code",
      "source": [
        "import enum\n",
        "import time"
      ],
      "metadata": {
        "id": "ngAoiz252k9j"
      },
      "execution_count": 9,
      "outputs": []
    },
    {
      "cell_type": "code",
      "source": [
        "class Candidatos(enum.Enum):\n",
        "  candidato_X = 889\n",
        "  candidato_Y = 847\n",
        "  candidato_Z = 515\n",
        "  branco = 0"
      ],
      "metadata": {
        "id": "0FnR_JnDWNYv"
      },
      "execution_count": 6,
      "outputs": []
    },
    {
      "cell_type": "markdown",
      "source": [
        "#### Definição da função do Sistema de Eleitoral\n"
      ],
      "metadata": {
        "id": "XWAWMIrbvdBs"
      }
    },
    {
      "cell_type": "code",
      "source": [
        "#Função encontra o 1º, 2º e 3º lugar, porém, não detecta empate. O código precisa ser melhorado para detectar. \n",
        "#Contudo, se os candidatos receberem votos diferentes, a ordem é respeitada.\n",
        "def sistemaEleitoral():\n",
        "  candidatoX = Candidatos.candidato_X\n",
        "  candidatoY = Candidatos.candidato_Y\n",
        "  candidatoZ = Candidatos.candidato_Z\n",
        "  x = 0\n",
        "  y = 0\n",
        "  z = 0\n",
        "  vencedor=\"\"\n",
        "  votosVencedor = 0\n",
        "  nulos = 0\n",
        "  condicao = 1\n",
        "  while(condicao != 0):\n",
        "    candidato = input(\"Prezado eleitor, para votar no seu candidato, basta digitar o número correspondente conforme abaixo ou digite qualquer número diferente para votar em branco:\\n candidato_X - 889\\n candidato_Y - 847\\n candidato_Z - 515\\n Encerrar a Votação - 0\\n\\n\")\n",
        "    candidato = int(candidato)\n",
        "    if(type(candidato) == type(x)):\n",
        "      condicao = candidato\n",
        "      if(candidato == candidatoX.value):\n",
        "        x+=1\n",
        "        if(x>y and x>z):\n",
        "          votosVencedor = x\n",
        "          vencedor = candidatoX.name        \n",
        "      elif(candidato == candidatoY.value):\n",
        "        y+=1\n",
        "        if(y>x and y>z):\n",
        "          votosVencedor = y\n",
        "          vencedor = candidatoY.name\n",
        "      elif(candidato == candidatoZ.value):\n",
        "        z+=1\n",
        "        if(x>y and z>x):\n",
        "          votosVencedor = z\n",
        "          vencedor = candidatoZ.name\n",
        "      else:\n",
        "        if(candidato != 0):\n",
        "          nulos+=1\n",
        "  if(y<x<z or z<x<y):\n",
        "    segundo = candidatoX.name\n",
        "    votoSegundo = x\n",
        "  elif(x<y<z or z<y<x):\n",
        "    segundo = candidatoY.name\n",
        "    votoSegundo = y\n",
        "  else:\n",
        "    segundo = candidatoZ.name\n",
        "    votoSegundo = z\n",
        "  if(x<y<z or x<z<y):\n",
        "    terceiro = candidatoX.name\n",
        "    votoTerceiro = x\n",
        "  elif(y<x<z or y<z<x):\n",
        "    terceiro = candidatoY.name\n",
        "    votoTerceiro = y\n",
        "  else:\n",
        "    terceiro = candidatoZ.name\n",
        "    votoTerceiro = z\n",
        "  print(\"Imprimindo o boletim de Urna: \",end=\"\")    \n",
        "  time.sleep(2)\n",
        "  print(\".\", end=\"\")\n",
        "  time.sleep(2)\n",
        "  print(\".\",end=\"\")\n",
        "  time.sleep(2)\n",
        "  print(\".\")\n",
        "  time.sleep(3)\n",
        "  print(\"1º lugar - \", vencedor, \"com \",votosVencedor, \"votos\")\n",
        "  print(\"2º lugar - \", segundo, \"com \", votoSegundo, \"votos\")\n",
        "  print(\"3º lugar - \", terceiro, \"com \", votoTerceiro, \"votos\")\n",
        "  print(\"Houve \", nulos, \" votos nulos\")\n",
        "\n",
        "        "
      ],
      "metadata": {
        "id": "3SqFtbMcEaF-"
      },
      "execution_count": 24,
      "outputs": []
    },
    {
      "cell_type": "markdown",
      "source": [
        "#### Execução do Sistema Eleitoral"
      ],
      "metadata": {
        "id": "Fw6RPN8FmUqP"
      }
    },
    {
      "cell_type": "code",
      "source": [
        "88sistemaEleitoral()"
      ],
      "metadata": {
        "colab": {
          "base_uri": "https://localhost:8080/"
        },
        "id": "LGTmRvSRmUR_",
        "outputId": "e869eee3-d912-401f-e156-fa179b145bbe"
      },
      "execution_count": 23,
      "outputs": [
        {
          "output_type": "stream",
          "name": "stdout",
          "text": [
            "Prezado eleitor, para votar no seu candidato, basta digitar o número correspondente conforme abaixo ou digite qualquer número diferente para votar em branco:\n",
            " candidato_X - 889\n",
            " candidato_Y - 847\n",
            " candidato_Z - 515\n",
            " Encerrar a Votação - 0\n",
            "\n",
            "889\n",
            "Prezado eleitor, para votar no seu candidato, basta digitar o número correspondente conforme abaixo ou digite qualquer número diferente para votar em branco:\n",
            " candidato_X - 889\n",
            " candidato_Y - 847\n",
            " candidato_Z - 515\n",
            " Encerrar a Votação - 0\n",
            "\n",
            "889\n",
            "Prezado eleitor, para votar no seu candidato, basta digitar o número correspondente conforme abaixo ou digite qualquer número diferente para votar em branco:\n",
            " candidato_X - 889\n",
            " candidato_Y - 847\n",
            " candidato_Z - 515\n",
            " Encerrar a Votação - 0\n",
            "\n",
            "889\n",
            "Prezado eleitor, para votar no seu candidato, basta digitar o número correspondente conforme abaixo ou digite qualquer número diferente para votar em branco:\n",
            " candidato_X - 889\n",
            " candidato_Y - 847\n",
            " candidato_Z - 515\n",
            " Encerrar a Votação - 0\n",
            "\n",
            "889\n",
            "Prezado eleitor, para votar no seu candidato, basta digitar o número correspondente conforme abaixo ou digite qualquer número diferente para votar em branco:\n",
            " candidato_X - 889\n",
            " candidato_Y - 847\n",
            " candidato_Z - 515\n",
            " Encerrar a Votação - 0\n",
            "\n",
            "889\n",
            "Prezado eleitor, para votar no seu candidato, basta digitar o número correspondente conforme abaixo ou digite qualquer número diferente para votar em branco:\n",
            " candidato_X - 889\n",
            " candidato_Y - 847\n",
            " candidato_Z - 515\n",
            " Encerrar a Votação - 0\n",
            "\n",
            "889\n",
            "Prezado eleitor, para votar no seu candidato, basta digitar o número correspondente conforme abaixo ou digite qualquer número diferente para votar em branco:\n",
            " candidato_X - 889\n",
            " candidato_Y - 847\n",
            " candidato_Z - 515\n",
            " Encerrar a Votação - 0\n",
            "\n",
            "889\n",
            "Prezado eleitor, para votar no seu candidato, basta digitar o número correspondente conforme abaixo ou digite qualquer número diferente para votar em branco:\n",
            " candidato_X - 889\n",
            " candidato_Y - 847\n",
            " candidato_Z - 515\n",
            " Encerrar a Votação - 0\n",
            "\n",
            "889\n",
            "Prezado eleitor, para votar no seu candidato, basta digitar o número correspondente conforme abaixo ou digite qualquer número diferente para votar em branco:\n",
            " candidato_X - 889\n",
            " candidato_Y - 847\n",
            " candidato_Z - 515\n",
            " Encerrar a Votação - 0\n",
            "\n",
            "889\n",
            "Prezado eleitor, para votar no seu candidato, basta digitar o número correspondente conforme abaixo ou digite qualquer número diferente para votar em branco:\n",
            " candidato_X - 889\n",
            " candidato_Y - 847\n",
            " candidato_Z - 515\n",
            " Encerrar a Votação - 0\n",
            "\n",
            "889\n",
            "Prezado eleitor, para votar no seu candidato, basta digitar o número correspondente conforme abaixo ou digite qualquer número diferente para votar em branco:\n",
            " candidato_X - 889\n",
            " candidato_Y - 847\n",
            " candidato_Z - 515\n",
            " Encerrar a Votação - 0\n",
            "\n",
            "52\n",
            "Prezado eleitor, para votar no seu candidato, basta digitar o número correspondente conforme abaixo ou digite qualquer número diferente para votar em branco:\n",
            " candidato_X - 889\n",
            " candidato_Y - 847\n",
            " candidato_Z - 515\n",
            " Encerrar a Votação - 0\n",
            "\n",
            "52\n",
            "Prezado eleitor, para votar no seu candidato, basta digitar o número correspondente conforme abaixo ou digite qualquer número diferente para votar em branco:\n",
            " candidato_X - 889\n",
            " candidato_Y - 847\n",
            " candidato_Z - 515\n",
            " Encerrar a Votação - 0\n",
            "\n",
            "522\n",
            "Prezado eleitor, para votar no seu candidato, basta digitar o número correspondente conforme abaixo ou digite qualquer número diferente para votar em branco:\n",
            " candidato_X - 889\n",
            " candidato_Y - 847\n",
            " candidato_Z - 515\n",
            " Encerrar a Votação - 0\n",
            "\n",
            "847\n",
            "Prezado eleitor, para votar no seu candidato, basta digitar o número correspondente conforme abaixo ou digite qualquer número diferente para votar em branco:\n",
            " candidato_X - 889\n",
            " candidato_Y - 847\n",
            " candidato_Z - 515\n",
            " Encerrar a Votação - 0\n",
            "\n",
            "847\n",
            "Prezado eleitor, para votar no seu candidato, basta digitar o número correspondente conforme abaixo ou digite qualquer número diferente para votar em branco:\n",
            " candidato_X - 889\n",
            " candidato_Y - 847\n",
            " candidato_Z - 515\n",
            " Encerrar a Votação - 0\n",
            "\n",
            "84\n",
            "Prezado eleitor, para votar no seu candidato, basta digitar o número correspondente conforme abaixo ou digite qualquer número diferente para votar em branco:\n",
            " candidato_X - 889\n",
            " candidato_Y - 847\n",
            " candidato_Z - 515\n",
            " Encerrar a Votação - 0\n",
            "\n",
            "847\n",
            "Prezado eleitor, para votar no seu candidato, basta digitar o número correspondente conforme abaixo ou digite qualquer número diferente para votar em branco:\n",
            " candidato_X - 889\n",
            " candidato_Y - 847\n",
            " candidato_Z - 515\n",
            " Encerrar a Votação - 0\n",
            "\n",
            "515\n",
            "Prezado eleitor, para votar no seu candidato, basta digitar o número correspondente conforme abaixo ou digite qualquer número diferente para votar em branco:\n",
            " candidato_X - 889\n",
            " candidato_Y - 847\n",
            " candidato_Z - 515\n",
            " Encerrar a Votação - 0\n",
            "\n",
            "515\n",
            "Prezado eleitor, para votar no seu candidato, basta digitar o número correspondente conforme abaixo ou digite qualquer número diferente para votar em branco:\n",
            " candidato_X - 889\n",
            " candidato_Y - 847\n",
            " candidato_Z - 515\n",
            " Encerrar a Votação - 0\n",
            "\n",
            "515\n",
            "Prezado eleitor, para votar no seu candidato, basta digitar o número correspondente conforme abaixo ou digite qualquer número diferente para votar em branco:\n",
            " candidato_X - 889\n",
            " candidato_Y - 847\n",
            " candidato_Z - 515\n",
            " Encerrar a Votação - 0\n",
            "\n",
            "0\n",
            "Imprimindo o boletim de Urna: ...\n",
            "1º lugar -  candidato_X com  10 votos\n",
            "2º lugar -  candidato_Z com  3 votos\n",
            "3º lugar -  candidato_Z com  3 votos\n",
            "Houve  4  votos nulos\n"
          ]
        }
      ]
    }
  ]
}

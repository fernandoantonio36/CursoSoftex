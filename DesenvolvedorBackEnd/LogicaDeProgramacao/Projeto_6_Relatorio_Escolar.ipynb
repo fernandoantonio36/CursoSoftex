{
  "nbformat": 4,
  "nbformat_minor": 0,
  "metadata": {
    "colab": {
      "name": "Projeto 6 - Escola",
      "provenance": [],
      "collapsed_sections": [],
      "authorship_tag": "ABX9TyODe4LAQIMV0zymFOFwcB88",
      "include_colab_link": true
    },
    "kernelspec": {
      "name": "python3",
      "display_name": "Python 3"
    },
    "language_info": {
      "name": "python"
    }
  },
  "cells": [
    {
      "cell_type": "markdown",
      "metadata": {
        "id": "view-in-github",
        "colab_type": "text"
      },
      "source": [
        "<a href=\"https://colab.research.google.com/github/fernandoantonio36/CursoSoftex/blob/main/Projeto_6_Relatorio_Escolar.ipynb\" target=\"_parent\"><img src=\"https://colab.research.google.com/assets/colab-badge.svg\" alt=\"Open In Colab\"/></a>"
      ]
    },
    {
      "cell_type": "markdown",
      "source": [
        "##Relatório Escolar\n",
        "\n",
        "Após uma prova de vestibular, uma escola quer identificar quantos dos seus alunos foram aprovados em cada turma de formandos. Ela quer saber qual aluno teve a maior nota e de qual turma ele é. Nessa escola, há quatro turmas (A, B, C e D) com vinte e cinco alunos cada.\n",
        "\n",
        "Elabore um algoritmo que solicite o nome e a nota do vestibular aos alunos. Depois, informe quantos deles foram aprovados, de que turma são, qual a maior nota em cada turma e qual aluno teve a maior nota de todas.\n",
        "\n",
        "Para que o aluno seja aprovado no vestibular, ele deverá obter nota maior ou igual a 7.\n",
        "\n",
        "ATENÇÃO: As notas por turma não podem se repetir."
      ],
      "metadata": {
        "id": "XGPDlBrRMRDw"
      }
    },
    {
      "cell_type": "markdown",
      "source": [
        "### Funções utilizadas\n"
      ],
      "metadata": {
        "id": "MpdtmnfTMYo3"
      }
    },
    {
      "cell_type": "markdown",
      "source": [
        "#### Função é aprovado"
      ],
      "metadata": {
        "id": "9WA1ifRnvR30"
      }
    },
    {
      "cell_type": "code",
      "source": [
        "def aprovado(nota):\n",
        "  return nota>=70"
      ],
      "metadata": {
        "id": "6tk_q9QJtDys"
      },
      "execution_count": null,
      "outputs": []
    },
    {
      "cell_type": "markdown",
      "source": [
        "#### Função principal"
      ],
      "metadata": {
        "id": "8tTfKGMTzVJc"
      }
    },
    {
      "cell_type": "markdown",
      "source": [
        "#### Função coleta dos dados"
      ],
      "metadata": {
        "id": "-gpD_3IbxJaZ"
      }
    },
    {
      "cell_type": "code",
      "source": [
        "#Premissas:\n",
        "#Sem a utilização de vetores para guardar as informações dos alunos\n",
        "#Como não foi dito nada sobre a coleta da turma na hora de solicitação dos dados aos alunos, \n",
        "#vou supor aqui que os alunos serão colocados na turma em ordem de entrada desses dados, portanto, será baseado de 1 a 100, \n",
        "#já que há 25 alunos por turma. \n",
        "#As notas serão de 0 a 100, inteiros.\n",
        "#Turma A - 1º ao 25º\n",
        "#Turma B - 26º ao 50º\n",
        "#Turma C - 51º ao 75º\n",
        "#Turma D - 76º ao 100º\n",
        "\n",
        "#Por exemplo, o aluno 26 estará na turma B, o aluno 51 estará na turma C.\n",
        "\n",
        "\n",
        "def coleta():\n",
        "  ordem = 1\n",
        "  maiorNotaGeral = 0\n",
        "  maiorNotaA = 0\n",
        "  maiorNotaB = 0\n",
        "  maiorNotaC = 0\n",
        "  maiorNotaD = 0\n",
        "  aprovadosA = 0\n",
        "  aprovadosB = 0\n",
        "  aprovadosC = 0\n",
        "  aprovadosD = 0\n",
        "  nomeMaior = \"\"\n",
        "  while(ordem <= 100):\n",
        "    nome = input(\"Caro aluno, digite o seu nome: \")\n",
        "    nota = int(input(\"Agora, digite sua nota: \"))\n",
        "    \n",
        "    if(aprovado(nota)):\n",
        "      if(ordem<=25):\n",
        "        aprovadosA =aprovadosA + 1\n",
        "        if(nota>maiorNotaA):\n",
        "          maiorNotaA = nota\n",
        "          if(maiorNotaA>maiorNotaB and maiorNotaA>maiorNotaC and maiorNotaA>maiorNotaD):\n",
        "            nomeMaior = nome\n",
        "            maiorNotaGeral = maiorNotaA\n",
        "      elif(26<=ordem<=50):\n",
        "        aprovadosB = aprovadosB + 1\n",
        "        if(nota>maiorNotaB):\n",
        "          maiorNotaB = nota\n",
        "          if(maiorNotaB>maiorNotaA and maiorNotaB>maiorNotaC and maiorNotaB>maiorNotaD):\n",
        "            nomeMaior = nome\n",
        "            maiorNotaGeral = maiorNotaB\n",
        "      elif(51<=ordem<=75):\n",
        "        aprovadosC = aprovadosC + 1\n",
        "        if(nota>maiorNotaC):\n",
        "          maiorNotaC = nota\n",
        "          if(maiorNotaC>maiorNotaB and maiorNotaC>maiorNotaA and maiorNotaC>maiorNotaD):\n",
        "            nomeMaior = nome\n",
        "            maiorNotaGeral = maiorNotaC\n",
        "      elif(76<=ordem<=100):\n",
        "        aprovadosD = aprovadosD + 1\n",
        "        if(nota>maiorNotaD):\n",
        "          maiorNotaD = nota\n",
        "          if(maiorNotaD>maiorNotaB and maiorNotaD>maiorNotaC and maiorNotaD>maiorNotaA):\n",
        "            nomeMaior = nome\n",
        "            maiorNotaGeral = maiorNotaD\n",
        "      else:\n",
        "        print(\"Não é possível mais cadastrar aluno\")\n",
        "    ordem+=1\n",
        "  aprovados = aprovadosA + aprovadosB + aprovadosC +aprovadosD\n",
        "  print(\"O aluno que obteve a maior nota foi \" + nomeMaior + \" e com a seguinte nota\", maiorNotaGeral )\n",
        "  print(\"A turma A teve \", aprovadosA,\" aprovados e a maior nota foi \", maiorNotaA)\n",
        "  print(\"A turma B teve \", aprovadosB,\" aprovados e a maior nota foi \", maiorNotaB)\n",
        "  print(\"A turma C teve \", aprovadosC,\" aprovados e a maior nota foi \", maiorNotaC)\n",
        "  print(\"A turma D teve \", aprovadosD,\" aprovados e a maior nota foi \", maiorNotaD)\n",
        "  print(\"O número todal de aprovados foi: \", aprovados)\n",
        "  print()"
      ],
      "metadata": {
        "id": "NaG5Qdl6xHmC"
      },
      "execution_count": 59,
      "outputs": []
    },
    {
      "cell_type": "markdown",
      "source": [
        ""
      ],
      "metadata": {
        "id": "XWAWMIrbvdBs"
      }
    },
    {
      "cell_type": "code",
      "source": [
        "coleta()"
      ],
      "metadata": {
        "id": "3SqFtbMcEaF-"
      },
      "execution_count": null,
      "outputs": []
    }
  ]
}

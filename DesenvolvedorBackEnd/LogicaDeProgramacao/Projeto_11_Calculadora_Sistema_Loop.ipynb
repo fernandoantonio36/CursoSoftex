{
  "nbformat": 4,
  "nbformat_minor": 0,
  "metadata": {
    "colab": {
      "name": "Projeto_11_Calculadora_Sistema_Loop",
      "provenance": [],
      "collapsed_sections": [],
      "authorship_tag": "ABX9TyNLbup/qFW3Ay9pXClV2g9S",
      "include_colab_link": true
    },
    "kernelspec": {
      "name": "python3",
      "display_name": "Python 3"
    },
    "language_info": {
      "name": "python"
    }
  },
  "cells": [
    {
      "cell_type": "markdown",
      "metadata": {
        "id": "view-in-github",
        "colab_type": "text"
      },
      "source": [
        "<a href=\"https://colab.research.google.com/github/fernandoantonio36/CursoSoftex/blob/main/Projeto_11_Calculadora_Sistema_Loop.ipynb\" target=\"_parent\"><img src=\"https://colab.research.google.com/assets/colab-badge.svg\" alt=\"Open In Colab\"/></a>"
      ]
    },
    {
      "cell_type": "markdown",
      "source": [
        "##Projeto Calculadora com Opção Sair\n",
        "\n",
        "Faça uma função calculadora que os números e as operações serão feitas pelo usuário. O código deve ficar rodando infinitamente até que o usuário escolha a opção de sair. No início, o programa mostrará a seguinte lista de operações:\n",
        "1: Soma\n",
        "2: Subtração\n",
        "3: Multiplicação\n",
        "4: Divisão\n",
        "0: Sair\n",
        "\n",
        "Digite o número para a operação correspondente e caso o usuário introduza qualquer outro, o sistema deve mostrar a mensagem “Essa opção não existe” e voltar ao menu de opções.\n",
        "\n",
        "Após a seleção, o sistema deve pedir para o usuário inserir o primeiro e segundo valor, um de cada. Depois precisa executar a operação e mostrar o resultado na tela. Quando o usuário escolher a opção “Sair”, o sistema irá parar. \n",
        "\n",
        "É necessário que o sistema mostre as opções sempre que finalizar uma operação e mostrar o resultado. "
      ],
      "metadata": {
        "id": "XGPDlBrRMRDw"
      }
    },
    {
      "cell_type": "markdown",
      "source": [
        "#### Importando biblioteca"
      ],
      "metadata": {
        "id": "Nu7R1U7gl1Hr"
      }
    },
    {
      "cell_type": "code",
      "source": [
        "import time"
      ],
      "metadata": {
        "id": "7CPk1fCgl0z8"
      },
      "execution_count": null,
      "outputs": []
    },
    {
      "cell_type": "markdown",
      "source": [
        "####Definição da função calculadora"
      ],
      "metadata": {
        "id": "_5m_zxRSYmPw"
      }
    },
    {
      "cell_type": "code",
      "source": [
        "def calculadora(operando1, operando2, operador):\n",
        "  num1 = operando1\n",
        "  num2 = operando2\n",
        "  op = operador\n",
        "  if(operador == 1):\n",
        "    print(\"Você escolheu a opção 1 - SOMA\")\n",
        "    return num1+num2\n",
        "  elif(operador == 2):\n",
        "    print(\"Você escolheu a opção 2 - SUBTRAÇÃO\")\n",
        "    return num1-num2  \n",
        "  elif(operador == 3):\n",
        "    print(\"Você escolheu a opção 3 - MULTIPLICAÇÃO\")\n",
        "    return num1*num2  \n",
        "  elif(operador == 4):\n",
        "    print(\"Você escolheu a opção 4 - DIVISÃO\")\n",
        "    return num1/num2\n",
        "  elif(operador == 5):\n",
        "    print(\"Você escolheu a opção 5 - RESTO DA DIVISÃO\")\n",
        "    return(num1%num2)\n",
        "  else:\n",
        "    return 0\n",
        "\n",
        "  \n"
      ],
      "metadata": {
        "id": "NaG5Qdl6xHmC"
      },
      "execution_count": null,
      "outputs": []
    },
    {
      "cell_type": "markdown",
      "source": [
        "#### Execução da função sistemaCalculadora\n"
      ],
      "metadata": {
        "id": "XWAWMIrbvdBs"
      }
    },
    {
      "cell_type": "code",
      "source": [
        "def sistemaCalculadora():\n",
        "  condicao = 1\n",
        "  while(condicao != 0):\n",
        "    print(\"Prezado usuário, digite os números e a operação conforme solicitado abaixo\")\n",
        "    operador = int(input(\"Favor, digite o número da operação conforme abaixo:\\n 1 - SOMA\\n 2 - SUBTRAÇÃO\\n 3 - MULTIPLICAÇÃO\\n 4 - DIVISÃO\\n 5 - RESTO DA DIVISÃO\\n 0 - SAIR\\n\"))\n",
        "    condicao = operador\n",
        "    if(condicao == 0):\n",
        "      print(\"saindo do sistema.\", end=\"\")\n",
        "      time.sleep(1)\n",
        "      print(\".\", end=\"\")\n",
        "      time.sleep(1)\n",
        "      print(\".\")\n",
        "      time.sleep(1)\n",
        "      break\n",
        "    operando1 = int(input(\"Digite o primeiro número da operação\\n\"))\n",
        "    operando2 = int(input(\"Digite o segundo número da operação\\n\"))\n",
        "    resultado = calculadora(operando1, operando2, operador)\n",
        "    print(\"O resultado da operação foi \", resultado)\n",
        "    print(\"Preparando para a próxima operação.\",end=\"\")\n",
        "    time.sleep(1)\n",
        "    print(\".\", end=\"\")\n",
        "    time.sleep(1)\n",
        "    print(\".\")\n",
        "    time.sleep(1)\n"
      ],
      "metadata": {
        "id": "3SqFtbMcEaF-"
      },
      "execution_count": null,
      "outputs": []
    },
    {
      "cell_type": "markdown",
      "source": [
        "#### Executando a função SistemaCalculadora com laço"
      ],
      "metadata": {
        "id": "2FFx8Il_lcTv"
      }
    },
    {
      "cell_type": "code",
      "source": [
        "sistemaCalculadora()"
      ],
      "metadata": {
        "colab": {
          "base_uri": "https://localhost:8080/"
        },
        "id": "bLyhpfXelbc2",
        "outputId": "a03d6cd7-082b-407d-c077-ad00ff1bcb65"
      },
      "execution_count": null,
      "outputs": [
        {
          "output_type": "stream",
          "name": "stdout",
          "text": [
            "Prezado usuário, digite os números e a operação conforme solicitado abaixo\n",
            "Favor, digite o número da operação conforme abaixo:\n",
            " 1 - SOMA\n",
            " 2 - SUBTRAÇÃO\n",
            " 3 - MULTIPLICAÇÃO\n",
            " 4 - DIVISÃO\n",
            " 5 - RESTO DA DIVISÃO\n",
            " 0 - SAIR\n",
            "3\n",
            "Digite o primeiro número da operação\n",
            "4\n",
            "Digite o segundo número da operação\n",
            "5\n",
            "Você escolheu a opção 3 - MULTIPLICAÇÃO\n",
            "O resultado da operação foi  20\n",
            "Preparando para a próxima operação...\n",
            "Prezado usuário, digite os números e a operação conforme solicitado abaixo\n",
            "Favor, digite o número da operação conforme abaixo:\n",
            " 1 - SOMA\n",
            " 2 - SUBTRAÇÃO\n",
            " 3 - MULTIPLICAÇÃO\n",
            " 4 - DIVISÃO\n",
            " 5 - RESTO DA DIVISÃO\n",
            " 0 - SAIR\n",
            "0\n",
            "saindo do sistema...\n"
          ]
        }
      ]
    }
  ]
}

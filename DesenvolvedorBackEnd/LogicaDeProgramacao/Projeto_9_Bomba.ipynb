{
  "nbformat": 4,
  "nbformat_minor": 0,
  "metadata": {
    "colab": {
      "name": "Projeto_9_Veículo",
      "provenance": [],
      "collapsed_sections": [],
      "authorship_tag": "ABX9TyOUmSK1iRNYFYnCLufc9ulb",
      "include_colab_link": true
    },
    "kernelspec": {
      "name": "python3",
      "display_name": "Python 3"
    },
    "language_info": {
      "name": "python"
    }
  },
  "cells": [
    {
      "cell_type": "markdown",
      "metadata": {
        "id": "view-in-github",
        "colab_type": "text"
      },
      "source": [
        "<a href=\"https://colab.research.google.com/github/fernandoantonio36/CursoSoftex/blob/main/Projeto_9_Ve%C3%ADculo.ipynb\" target=\"_parent\"><img src=\"https://colab.research.google.com/assets/colab-badge.svg\" alt=\"Open In Colab\"/></a>"
      ]
    },
    {
      "cell_type": "markdown",
      "source": [
        "##Projeto Bomba\n",
        "\n",
        "Faça um código que execute a contagem regressiva de uma bomba, informando o número de segundos para explodir. Ele deverá mostrar a mensagem “iniciando contagem regressiva”, os segundos passados e, no final, a mensagem “BUM!”.\n",
        "\n",
        "Não é necessário, mas, caso deseje tornar o sistema mais realista para que o tempo realmente passe em segundos, você pode usar a função time.sleep() que existe na Python (acesse o link em anexo). No entanto, é preciso adicionar uma biblioteca antes de executá-la. "
      ],
      "metadata": {
        "id": "XGPDlBrRMRDw"
      }
    },
    {
      "cell_type": "markdown",
      "source": [
        "#### Importando a biblioteca "
      ],
      "metadata": {
        "id": "-gpD_3IbxJaZ"
      }
    },
    {
      "cell_type": "code",
      "source": [
        "import time\n"
      ],
      "metadata": {
        "id": "0bd_VodAVwGj"
      },
      "execution_count": 1,
      "outputs": []
    },
    {
      "cell_type": "markdown",
      "source": [
        "####Definição da função bomba"
      ],
      "metadata": {
        "id": "_5m_zxRSYmPw"
      }
    },
    {
      "cell_type": "code",
      "source": [
        "def bomba():\n",
        "  print(\"A bomba vai explodir em 10 segundos...\")\n",
        "  time.sleep(2)\n",
        "  for i in range(10,0,-1):\n",
        "    print(i,\"s\")\n",
        "    time.sleep(1)\n",
        "  print(\"BUUUMMMMMM!!!\")\n"
      ],
      "metadata": {
        "id": "NaG5Qdl6xHmC"
      },
      "execution_count": 12,
      "outputs": []
    },
    {
      "cell_type": "markdown",
      "source": [
        "#### Execução da função bomba\n"
      ],
      "metadata": {
        "id": "XWAWMIrbvdBs"
      }
    },
    {
      "cell_type": "code",
      "source": [
        "bomba()"
      ],
      "metadata": {
        "id": "3SqFtbMcEaF-",
        "colab": {
          "base_uri": "https://localhost:8080/"
        },
        "outputId": "24b700d7-e50a-4b1c-d305-960d7cd68ec4"
      },
      "execution_count": 13,
      "outputs": [
        {
          "output_type": "stream",
          "name": "stdout",
          "text": [
            "A bomba vai explodir em 10 segundos...\n",
            "10 s\n",
            "9 s\n",
            "8 s\n",
            "7 s\n",
            "6 s\n",
            "5 s\n",
            "4 s\n",
            "3 s\n",
            "2 s\n",
            "1 s\n",
            "BUUUMMMMMM!!!\n"
          ]
        }
      ]
    }
  ]
}

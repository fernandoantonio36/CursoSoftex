{
  "nbformat": 4,
  "nbformat_minor": 0,
  "metadata": {
    "colab": {
      "name": "Projeto_19_POO_Classes",
      "provenance": [],
      "collapsed_sections": [],
      "authorship_tag": "ABX9TyPUy7ygDTnkUqjUuvlJt7Gj",
      "include_colab_link": true
    },
    "kernelspec": {
      "name": "python3",
      "display_name": "Python 3"
    },
    "language_info": {
      "name": "python"
    }
  },
  "cells": [
    {
      "cell_type": "markdown",
      "metadata": {
        "id": "view-in-github",
        "colab_type": "text"
      },
      "source": [
        "<a href=\"https://colab.research.google.com/github/fernandoantonio36/CursoSoftex/blob/main/Projeto_19_POO_Classes.ipynb\" target=\"_parent\"><img src=\"https://colab.research.google.com/assets/colab-badge.svg\" alt=\"Open In Colab\"/></a>"
      ]
    },
    {
      "cell_type": "markdown",
      "source": [
        "## Programação Orientada a Objetos - Classes concretas e Classes abstratas\n",
        "Classifique dois objetos materiais e dois abstratos. Insira, no mínimo, três métodos e três atributos para cada."
      ],
      "metadata": {
        "id": "XGPDlBrRMRDw"
      }
    },
    {
      "cell_type": "markdown",
      "source": [
        "#### Classes Concretas"
      ],
      "metadata": {
        "id": "V2tSKg8sf6cz"
      }
    },
    {
      "cell_type": "code",
      "source": [
        "#Classe Pessoa\n",
        "class Pessoa:\n",
        "  def __init__(self, id, nome, idade):\n",
        "    self.identidade = id\n",
        "    self.nome = nome\n",
        "    self.idade = idade\n",
        "  def get_id(self):\n",
        "        return self.identidade\n",
        "            \n",
        "  def get_nome(self):\n",
        "    return self.nome  \n",
        "\n",
        "  def get_idade(self):\n",
        "    return self.idade\n",
        "\n",
        "#Classe Carro\n",
        "class Carro:\n",
        "  def __init__(self, modelo, placa, ano):\n",
        "    self.modelo = modelo\n",
        "    self.placa = placa\n",
        "    self.ano = ano\n",
        "      \n",
        "          \n",
        "  def get_modelo(self):\n",
        "    return self.modelo\n",
        "            \n",
        "  def get_placa(self):\n",
        "    return self.placa  \n",
        "\n",
        "  def get_ano(self):\n",
        "    return self.ano\n",
        "\n"
      ],
      "metadata": {
        "id": "4YVCa9u5gCvF"
      },
      "execution_count": 9,
      "outputs": []
    },
    {
      "cell_type": "markdown",
      "source": [
        "#### Classes Abstratas"
      ],
      "metadata": {
        "id": "9WA1ifRnvR30"
      }
    },
    {
      "cell_type": "code",
      "source": [
        "#Classe Conta\n",
        "class Conta:\n",
        "  def __init__(self, numero, agencia, saldo, pessoa):\n",
        "    self.numeroConta = numero\n",
        "    self.agencia = agencia\n",
        "    self.saldo = saldo\n",
        "    self.pessoa = pessoa\n",
        "  def get_numeroDaConta(self):\n",
        "    return self.numeroConta\n",
        "            \n",
        "  def get_agencia(self):\n",
        "    return self.agencia  \n",
        "\n",
        "  def get_saldo(self):\n",
        "    return self.saldo\n",
        "\n",
        "  def get_pessoa(self):\n",
        "    nome = self.pessoa.get_nome()\n",
        "    id = self.pessoa.get_id()\n",
        "    return nome, id\n",
        "\n",
        "  def depositar(self, valor):\n",
        "    self.saldo = self.saldo + valor\n",
        "    print(\"Você depositou: \", valor, \"reais. Seu saldo atual é de: \",self.saldo, \"reais.\")\n",
        "  def debitar(self, valor):\n",
        "    self.saldo = self.saldo - valor\n",
        "    print(\"Você depositou: \", valor, \"reais. Seu saldo atual é de: \",self.saldo, \"reais.\")  \n",
        "\n",
        "#Classe Perfil\n",
        "class Perfil:\n",
        "  def __init__(self, nome, login, senha, foto, postagem):\n",
        "    self.nome = nome\n",
        "    self.login = login\n",
        "    self.senha = senha\n",
        "    self.foto = foto\n",
        "    self.postagem = postagem\n",
        "    self.amigos = list() \n",
        "          \n",
        "          \n",
        "  def get_nome(self):\n",
        "    return self.nome\n",
        "            \n",
        "  def get_login(self):\n",
        "    return self.login  \n",
        "\n",
        "  def get_senha(self):\n",
        "    return self.senha\n",
        "\n",
        "  def get_foto(self):\n",
        "    return self.foto\n",
        "  def alterar_foto(self, novaFoto):\n",
        "    self.foto = novaFoto\n",
        "    print(\"A nova foto é\", self.foto)\n",
        "\n",
        "  def alterar_senha(self, novaSenha):\n",
        "    self.senha = novaSenha\n",
        "\n",
        "  def adicionar_amigo(self, amigo):\n",
        "    self.amigos.append(amigo)\n",
        "    print(\"Amigo adicionado com sucesso!\")\n",
        "\n",
        "  def remover_amigo(self, amigo):\n",
        "    self.amigos.remove(amigo)\n",
        "    print((\"Amigo removido com sucesso!\"))\n",
        "  \n",
        "  def visualizar_amigos(self):\n",
        "    for amigo in self.amigos:\n",
        "      print(amigo)\n"
      ],
      "metadata": {
        "id": "1518wpDWzW15"
      },
      "execution_count": 44,
      "outputs": []
    },
    {
      "cell_type": "markdown",
      "source": [
        "####Criando os objetos e testando suas funcionalidades"
      ],
      "metadata": {
        "id": "EC_Mr6V2-fU5"
      }
    },
    {
      "cell_type": "markdown",
      "source": [
        "###### Classe Pessoa"
      ],
      "metadata": {
        "id": "2OrKSxHj-pyr"
      }
    },
    {
      "cell_type": "code",
      "source": [
        "pessoa = Pessoa(1,\"Paulo\", 17)   #Criando o objeto do tipo Pessoa\n",
        "print(\"O nome da pessoa é: \", pessoa.get_nome(), \". Ela tem \", pessoa.get_idade(), \"anos e está sob o registro \",pessoa.get_id())"
      ],
      "metadata": {
        "colab": {
          "base_uri": "https://localhost:8080/"
        },
        "id": "uE0hSM4p-eby",
        "outputId": "83f922b6-5bdc-44cd-a888-5785bd5b8413"
      },
      "execution_count": 6,
      "outputs": [
        {
          "output_type": "stream",
          "name": "stdout",
          "text": [
            "O nome da pessoa é:  Paulo . Ela tem  17 anos e está sob o registro  1\n"
          ]
        }
      ]
    },
    {
      "cell_type": "markdown",
      "source": [
        "###### Classe Carro"
      ],
      "metadata": {
        "id": "NzvrjVcN-xQI"
      }
    },
    {
      "cell_type": "code",
      "source": [
        "carro = Carro(\"HB20\",\"xxx-xxxx\", \"2020\")   #Criando o objeto do tipo Carro\n",
        "print(\"O carro é do modelo\", carro.get_modelo(), \". Ele possui a seguinte placa\", carro.get_placa(), \"e é do ano de\",carro.get_ano())"
      ],
      "metadata": {
        "colab": {
          "base_uri": "https://localhost:8080/"
        },
        "id": "HeCfvrUt-7sQ",
        "outputId": "e5477e60-f783-41a8-8e62-6709d1a34bd0"
      },
      "execution_count": 10,
      "outputs": [
        {
          "output_type": "stream",
          "name": "stdout",
          "text": [
            "O carro é do modelo HB20 . Ele possui a seguinte placa xxx-xxxx e é do ano de 2020\n"
          ]
        }
      ]
    },
    {
      "cell_type": "markdown",
      "source": [
        "###### Classe Conta"
      ],
      "metadata": {
        "id": "tgfdKBL_--sh"
      }
    },
    {
      "cell_type": "code",
      "source": [
        "conta = Conta(\"1253563\", \"1256\", 1000, pessoa) #Criando o objeto do tipo Conta"
      ],
      "metadata": {
        "id": "OLm-VmhW_BEI"
      },
      "execution_count": 22,
      "outputs": []
    },
    {
      "cell_type": "code",
      "source": [
        "print(conta.get_saldo()) #Recuperando o saldo da conta"
      ],
      "metadata": {
        "colab": {
          "base_uri": "https://localhost:8080/"
        },
        "id": "gjfJSEEWCFuy",
        "outputId": "79c25dd6-f1af-4b79-c584-3a10a16c5dac"
      },
      "execution_count": 26,
      "outputs": [
        {
          "output_type": "stream",
          "name": "stdout",
          "text": [
            "1000\n"
          ]
        }
      ]
    },
    {
      "cell_type": "code",
      "source": [
        "conta.depositar(500)   #Realizando depósito de 500 reais na conta"
      ],
      "metadata": {
        "colab": {
          "base_uri": "https://localhost:8080/"
        },
        "id": "w6dTuW7IFsAV",
        "outputId": "a77f9974-433c-432e-85e8-6610fc148334"
      },
      "execution_count": 27,
      "outputs": [
        {
          "output_type": "stream",
          "name": "stdout",
          "text": [
            "Você depositou:  500 reais. Seu saldo atual é de:  1500 reais.\n"
          ]
        }
      ]
    },
    {
      "cell_type": "code",
      "source": [
        "conta.debitar(100) #Debitando 100 do saldo da conta"
      ],
      "metadata": {
        "colab": {
          "base_uri": "https://localhost:8080/"
        },
        "id": "oByMBnH6F6e-",
        "outputId": "dc71bd7f-dc1a-4888-8c18-f8f4597eb14b"
      },
      "execution_count": 28,
      "outputs": [
        {
          "output_type": "stream",
          "name": "stdout",
          "text": [
            "Você depositou:  100 reais. Seu saldo atual é de:  1400 reais.\n"
          ]
        }
      ]
    },
    {
      "cell_type": "code",
      "source": [
        "nome, id = conta.get_pessoa()  #Recuperando os dados do dono da conta\n",
        "print(\"O dono desta conta é:\", nome, \"e possui o seguinte RG\", id)"
      ],
      "metadata": {
        "colab": {
          "base_uri": "https://localhost:8080/"
        },
        "id": "bCQegk09GEVq",
        "outputId": "a563aeac-1cdf-490e-e987-88764ee581b3"
      },
      "execution_count": 30,
      "outputs": [
        {
          "output_type": "stream",
          "name": "stdout",
          "text": [
            "O dono desta conta é: Paulo e possui o seguinte RG 1\n"
          ]
        }
      ]
    },
    {
      "cell_type": "markdown",
      "source": [
        "###### Classe Perfil"
      ],
      "metadata": {
        "id": "XhfJAQII_DbF"
      }
    },
    {
      "cell_type": "code",
      "source": [
        "perfil = Perfil(\"Jorge\", \"Jorge14\", \"xxxx\", \"FOTO\", \"Olá, bem vindo\") #Criando o objeto Perfil"
      ],
      "metadata": {
        "id": "QEEPAYCS_TZ_"
      },
      "execution_count": 45,
      "outputs": []
    },
    {
      "cell_type": "code",
      "source": [
        "perfil.alterar_foto(\"foto\")  #Alterando a foto"
      ],
      "metadata": {
        "colab": {
          "base_uri": "https://localhost:8080/"
        },
        "id": "nqy0QCmzHiUt",
        "outputId": "6f357c14-8803-48bb-8fdb-88d3c1c4d0b7"
      },
      "execution_count": 46,
      "outputs": [
        {
          "output_type": "stream",
          "name": "stdout",
          "text": [
            "A nova foto é foto\n"
          ]
        }
      ]
    },
    {
      "cell_type": "code",
      "source": [
        "perfil.adicionar_amigo(\"Diego\")"
      ],
      "metadata": {
        "colab": {
          "base_uri": "https://localhost:8080/"
        },
        "id": "GGffd2uzHbgb",
        "outputId": "c65e0738-9d64-415d-cf13-47d622df12e7"
      },
      "execution_count": 47,
      "outputs": [
        {
          "output_type": "stream",
          "name": "stdout",
          "text": [
            "Amigo adicionado com sucesso!\n"
          ]
        }
      ]
    },
    {
      "cell_type": "code",
      "source": [
        "perfil.adicionar_amigo(\"Joana\")"
      ],
      "metadata": {
        "colab": {
          "base_uri": "https://localhost:8080/"
        },
        "id": "QYAnN0xrIuEZ",
        "outputId": "9c1b4b79-7503-4dc3-d1a3-6f9c3ad044e3"
      },
      "execution_count": 48,
      "outputs": [
        {
          "output_type": "stream",
          "name": "stdout",
          "text": [
            "Amigo adicionado com sucesso!\n"
          ]
        }
      ]
    },
    {
      "cell_type": "code",
      "source": [
        "perfil.adicionar_amigo(\"Jonh\")"
      ],
      "metadata": {
        "colab": {
          "base_uri": "https://localhost:8080/"
        },
        "id": "BkDgLa37JKNR",
        "outputId": "d1235ca6-5c52-4eb4-a1f5-63eba6ae8dbd"
      },
      "execution_count": 49,
      "outputs": [
        {
          "output_type": "stream",
          "name": "stdout",
          "text": [
            "Amigo adicionado com sucesso!\n"
          ]
        }
      ]
    },
    {
      "cell_type": "code",
      "source": [
        "perfil.adicionar_amigo(\"Bela\")"
      ],
      "metadata": {
        "colab": {
          "base_uri": "https://localhost:8080/"
        },
        "id": "DFAC2RQzJRcb",
        "outputId": "0b758721-8462-4241-d8c8-874b82507fc8"
      },
      "execution_count": 50,
      "outputs": [
        {
          "output_type": "stream",
          "name": "stdout",
          "text": [
            "Amigo adicionado com sucesso!\n"
          ]
        }
      ]
    },
    {
      "cell_type": "code",
      "source": [
        "perfil.visualizar_amigos()"
      ],
      "metadata": {
        "colab": {
          "base_uri": "https://localhost:8080/"
        },
        "id": "FT7egZu_JY8A",
        "outputId": "f8ae4ea3-046f-4fb3-9145-240083a845f4"
      },
      "execution_count": 51,
      "outputs": [
        {
          "output_type": "stream",
          "name": "stdout",
          "text": [
            "Diego\n",
            "Joana\n",
            "Jonh\n",
            "Bela\n"
          ]
        }
      ]
    },
    {
      "cell_type": "code",
      "source": [
        "perfil.remover_amigo(\"Jonh\")"
      ],
      "metadata": {
        "colab": {
          "base_uri": "https://localhost:8080/"
        },
        "id": "aV9QRV00JlfH",
        "outputId": "1916caca-5223-4398-d1e8-04e01415d3e9"
      },
      "execution_count": 53,
      "outputs": [
        {
          "output_type": "stream",
          "name": "stdout",
          "text": [
            "Amigo removido com sucesso!\n"
          ]
        }
      ]
    },
    {
      "cell_type": "code",
      "source": [
        "perfil.visualizar_amigos()"
      ],
      "metadata": {
        "colab": {
          "base_uri": "https://localhost:8080/"
        },
        "id": "nSkqsMZ5Jvu9",
        "outputId": "9c5f5f43-fdcf-428e-a656-b3d414f58694"
      },
      "execution_count": 54,
      "outputs": [
        {
          "output_type": "stream",
          "name": "stdout",
          "text": [
            "Diego\n",
            "Joana\n",
            "Bela\n"
          ]
        }
      ]
    }
  ]
}

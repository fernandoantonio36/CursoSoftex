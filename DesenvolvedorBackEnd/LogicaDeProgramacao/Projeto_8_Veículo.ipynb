{
  "nbformat": 4,
  "nbformat_minor": 0,
  "metadata": {
    "colab": {
      "name": "Projeto_8_Veículo",
      "provenance": [],
      "collapsed_sections": [],
      "authorship_tag": "ABX9TyPVWHPZswJUe+JtGZEis4QR",
      "include_colab_link": true
    },
    "kernelspec": {
      "name": "python3",
      "display_name": "Python 3"
    },
    "language_info": {
      "name": "python"
    }
  },
  "cells": [
    {
      "cell_type": "markdown",
      "metadata": {
        "id": "view-in-github",
        "colab_type": "text"
      },
      "source": [
        "<a href=\"https://colab.research.google.com/github/fernandoantonio36/CursoSoftex/blob/main/Projeto_8_Ve%C3%ADculo.ipynb\" target=\"_parent\"><img src=\"https://colab.research.google.com/assets/colab-badge.svg\" alt=\"Open In Colab\"/></a>"
      ]
    },
    {
      "cell_type": "markdown",
      "source": [
        "##Veículo\n",
        "\n",
        "Desenvolva um código que utilize as seguintes características de um veículo:\n",
        "- Quantidade de rodas;\n",
        "- Peso bruto em quilogramas;\n",
        "- Quantidade de pessoas no veículo.\n",
        "\n",
        "Com essas informações, o programa mostrará qual é a melhor categoria de habilitação para o veículo informado a partir das condições:\n",
        "A: Veículos com duas ou três rodas;\n",
        "B: Veículos com quatro rodas, que acomodam até oito pessoas e seu peso é de até 3500 kg;\n",
        "C: Veículos com quatro rodas ou mais e com peso entre 3500 e 6000 kg;\n",
        "D: Veículos com quatro rodas ou mais e que acomodam mais de oito pessoas;\n",
        "E: Veículos com quatro rodas ou mais e com mais de 6000 kg."
      ],
      "metadata": {
        "id": "XGPDlBrRMRDw"
      }
    },
    {
      "cell_type": "code",
      "source": [
        "def qualHabilitacao():\n",
        "  opcao = True\n",
        "  while(opcao):\n",
        "    rodas = int(input(\"Favor, insira quantas rodas o veículo possui:\"))\n",
        "    quilo = int(input(\"Por favor, insira o peso bruto, em kg, do veículo \"))\n",
        "    pessoas = int(input(\"Estamos quase acabando! Se for o caso, o veículo acomoda quantas pessoas: \"))\n",
        "    if (rodas <= 3 and pessoas <=2):\n",
        "      print(\"A melhor categoria de habilitação para esse tipo de veículo é A\")\n",
        "      opcao = False\n",
        "    elif((rodas == 4) and (pessoas <=8) and (quilo <= 3500)):\n",
        "      print(\"A melhor categoria de habilitação para esse tipo de veículo é B\")\n",
        "      opcao = False\n",
        "    elif((rodas >= 4) and (3500<= quilo <= 6000)):\n",
        "      print(\"A melhor categoria de habilitação para esse tipo de veículo é C\")\n",
        "      opcao = False\n",
        "    elif((rodas >= 4) and (pessoas > 8)):\n",
        "      print(\"A melhor categoria de habilitação para esse tipo de veículo é D\")\n",
        "      opcao = False\n",
        "    elif((rodas >= 4) and (quilo > 6000)):\n",
        "      print(\"A melhor categoria de habilitação para esse tipo de veículo é B\")\n",
        "      opcao = False\n",
        "    else:\n",
        "      print(\"Ih, algo deu errado. Tente novamente\")\n",
        "      opcao = True"
      ],
      "metadata": {
        "id": "NaG5Qdl6xHmC"
      },
      "execution_count": null,
      "outputs": []
    },
    {
      "cell_type": "code",
      "source": [
        "qualHabilitacao()"
      ],
      "metadata": {
        "id": "3SqFtbMcEaF-",
        "colab": {
          "base_uri": "https://localhost:8080/"
        },
        "outputId": "af5e23e3-0eb3-4185-d196-8d3caccf58a8"
      },
      "execution_count": null,
      "outputs": [
        {
          "output_type": "stream",
          "name": "stdout",
          "text": [
            "Favor, insira quantas rodas o veículo possui:2\n",
            "Por favor, insira o peso bruto, em kg, do veículo 1500\n",
            "Estamos quase acabando! Se for o caso, o veículo acomoda quantas pessoas: 8\n",
            "Ih, algo deu errado. Tente novamente\n",
            "Favor, insira quantas rodas o veículo possui:2\n",
            "Por favor, insira o peso bruto, em kg, do veículo 1500\n",
            "Estamos quase acabando! Se for o caso, o veículo acomoda quantas pessoas: 2\n",
            "A melhor categoria de habilitação para esse tipo de veículo é A\n"
          ]
        }
      ]
    }
  ]
}

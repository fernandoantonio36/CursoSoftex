{
  "nbformat": 4,
  "nbformat_minor": 0,
  "metadata": {
    "colab": {
      "name": "Projeto 5 - Escolha do meio do transporte.ipynb",
      "provenance": [],
      "collapsed_sections": [],
      "authorship_tag": "ABX9TyNWjgZTg3Lp0xL2QpRVZBzN",
      "include_colab_link": true
    },
    "kernelspec": {
      "name": "python3",
      "display_name": "Python 3"
    },
    "language_info": {
      "name": "python"
    }
  },
  "cells": [
    {
      "cell_type": "markdown",
      "metadata": {
        "id": "view-in-github",
        "colab_type": "text"
      },
      "source": [
        "<a href=\"https://colab.research.google.com/github/fernandoantonio36/CursoSoftex/blob/main/Projeto_5_Escolha_do_meio_do_transporte.ipynb\" target=\"_parent\"><img src=\"https://colab.research.google.com/assets/colab-badge.svg\" alt=\"Open In Colab\"/></a>"
      ]
    },
    {
      "cell_type": "markdown",
      "source": [
        "##Lista de Meios de Transpotes"
      ],
      "metadata": {
        "id": "XGPDlBrRMRDw"
      }
    },
    {
      "cell_type": "code",
      "source": [
        "print(\"1 - Trator,  2 - Moto, 3 - Bicicleta, 4-Trem, 5-Carro, 6 - Caminhão, 7 - Ônibus, 8 - Asa Delta, 9 - Balão, 10 - Avião, 11 - Helicóptero, 12 - Submarino, 13 - Barco, 14 - Navio, 15 - Lancha\")"
      ],
      "metadata": {
        "colab": {
          "base_uri": "https://localhost:8080/"
        },
        "id": "Qpbtz3F0runC",
        "outputId": "5daff835-f474-4610-8a5a-49ffd0485a67"
      },
      "execution_count": 10,
      "outputs": [
        {
          "output_type": "stream",
          "name": "stdout",
          "text": [
            "1 - Trator,  2 - Moto, 3 - Bicicleta, 4-Trem, 5-Carro, 6 - Caminhão, 7 - Ônibus, 8 - Asa Delta, 9 - Balão, 10 - Avião, 11 - Helicóptero, 12 - Submarino, 13 - Barco, 14 - Navio, 15 - Lancha\n"
          ]
        }
      ]
    },
    {
      "cell_type": "markdown",
      "source": [
        "## Opção escolhida pelo usuário somente para validar a decisão final"
      ],
      "metadata": {
        "id": "MpdtmnfTMYo3"
      }
    },
    {
      "cell_type": "code",
      "source": [
        "opcao = int(input(\"Caro usuário, escolha uma das seguintes opções acima. Digite somente o número da opção e tecle ENTER\"))"
      ],
      "metadata": {
        "colab": {
          "base_uri": "https://localhost:8080/"
        },
        "id": "6tk_q9QJtDys",
        "outputId": "ad961213-6301-4329-fec5-bb1b2bc2ef12"
      },
      "execution_count": 26,
      "outputs": [
        {
          "name": "stdout",
          "output_type": "stream",
          "text": [
            "Caro usuário, escolha uma das seguintes opções acima. Digite somente o número da opção e tecle ENTER15\n"
          ]
        }
      ]
    },
    {
      "cell_type": "markdown",
      "source": [
        "## Definição da função \"adivinhando\" que irá adivinhar o meio de transporte escolhido pelo usuário"
      ],
      "metadata": {
        "id": "rHBbQBK2Mh33"
      }
    },
    {
      "cell_type": "code",
      "source": [
        "def adivinhando (opcao):\n",
        "  opcao = opcao\n",
        "  escolha = int(input(\"É terrestre? Responda 1 para Sim ou 2 para Não. Somente o número\"))\n",
        "  if(escolha == 1): #É terrestre\n",
        "    escolha = int(input(\"Cabe apenas uma pessoa? Responda 1 para Sim ou 2 para Não. Somente o número\"))\n",
        "    if(escolha == 1): #Cabe apenas uma pessoa\n",
        "      escolha = int(input(\"É pesado? Responda 1 para Sim ou 2 para Não. Somente o número\"))\n",
        "      if(escolha == 1): #É pesado\n",
        "        print(\"Você escolheu o trator\")\n",
        "      elif(escolha == 2): #Não é pesado\n",
        "        escolha = int(input(\"Tem pedal? Responda 1 para Sim ou 2 para Não. Somente o número\"))\n",
        "        if(escolha == 1): #Tem pedal\n",
        "          print(\"Você escolheu a Bicicleta\")\n",
        "        else:\n",
        "          print(\"Opção errada! Tente novamente\") #usuário digitou outra numeração diferente de 1 ou 2.\n",
        "    elif(escolha == 2): # Outras opções terrestres\n",
        "      escolha = int(input(\"Usa capacete? Responda 1 para Sim ou 2 para Não. Somente o número\"))\n",
        "      if(escolha == 1): # usa capacete\n",
        "        print(\"Você escolheu a Moto\")\n",
        "      elif(escolha == 2): # ou tem passageiro ou o usuário errou o número\n",
        "        escolha = int(input(\"Tem passageiro? Responda 1 para Sim ou 2 para Não. Somente o número\"))\n",
        "        if(escolha == 1):\n",
        "          escolha = int(input(\"Usa trilho? Responda 1 para Sim ou 2 para Não. Somente o número\"))\n",
        "          if(escolha == 1):\n",
        "            print(\"Você escolheu o Trem\")\n",
        "          elif(escolha == 2):\n",
        "            escolha = int(input(\"Anda na pista? Responda 1 para Sim ou 2 para Não. Somente o número\"))\n",
        "            if(escolha == 1):\n",
        "              escolha = int(input(\"É alto? Responda 1 para Sim ou 2 para Não. Somente o número\"))\n",
        "              if(escolha == 1):\n",
        "                escolha = int(input(\"Usa carroceria? Responda 1 para Sim ou 2 para Não. Somente o número\"))\n",
        "                if(escolha == 1):\n",
        "                  print(\"Você escolheu o Caminhão\")\n",
        "                elif(escolha == 2):\n",
        "                  escolha = int(input(\"Pode ter cobrador? Responda 1 para Sim ou 2 para Não. Somente o número\"))\n",
        "                  if(escolha == 1):\n",
        "                    print(\"Você escolheu o Ônibus\")\n",
        "                  else:\n",
        "                    print(\"Opção errada! Tente novamente!\")\n",
        "                else:\n",
        "                   print(\"Opção errada! Tente novamente!\")\n",
        "              elif (escolha == 2):\n",
        "                escolha = int(input(\"É veículo leve? Responda 1 para Sim ou 2 para Não. Somente o número\"))\n",
        "                if(escolha == 1):\n",
        "                  print(\"Você escolheu o Carro\")\n",
        "                else:\n",
        "                  print(\"Opção errada! Tente novamente!\")\n",
        "\n",
        "            else:\n",
        "              print(\"Opção errada! Tente novamente!\")\n",
        "\n",
        "          else:\n",
        "            print(\"Opção errada! Tente novamente\")\n",
        "        else:\n",
        "          print(\"Opção errada! Tente novamente!\") \n",
        "      else:\n",
        "        print(\"Opção errada! Tente novamente!\")\n",
        "    else:\n",
        "      print(\"Opção errada! Tente novamente\")\n",
        "  elif(escolha == 2): # Ou é Aéreo ou é Aquático\n",
        "    escolha = int(input(\"É Aéreo? Responda 1 para Sim ou 2 para Não. Somente o número\")) #É Aéreo\n",
        "    if(escolha == 1):\n",
        "      escolha = int(input(\"Precisa pular? Responda 1 para Sim ou 2 para Não. Somente o número\"))\n",
        "      if(escolha == 1):\n",
        "        print(\"Você escolheu Asa Delta\")\n",
        "      elif(escolha == 2):\n",
        "        escolha = int(input(\"Viaja dentro? Responda 1 para Sim ou 2 para Não. Somente o número\"))\n",
        "        if(escolha == 1):\n",
        "          escolha = int(input(\"É devagar? Responda 1 para Sim ou 2 para Não. Somente o número\"))\n",
        "          if(escolha == 1):\n",
        "            print(\"Você escolheu Balão\")\n",
        "          elif(escolha == 2):\n",
        "            escolha = int(input(\"Tem piloto? Responda 1 para Sim ou 2 para Não. Somente o número\"))\n",
        "            if(escolha == 1):\n",
        "              escolha = int(input(\"Possui asas fixas? Responda 1 para Sim ou 2 para Não. Somente o número\"))\n",
        "              if(escolha == 1):\n",
        "                print(\"Você escolheu Avião\")\n",
        "              elif(escolha == 2):\n",
        "                escolha = int(input(\"Faz voo vertical? Responda 1 para Sim ou 2 para Não. Somente o número\"))\n",
        "                if(escolha == 1):\n",
        "                  print(\"Você escolheu Helicóptero\")\n",
        "                else:\n",
        "                  print(\"Opção errada! Tente novamente!\")\n",
        "              else:\n",
        "                print(\"Opção errada! Tente novamente!\")\n",
        "\n",
        "            else:\n",
        "              print(\"Opção errada! Tente novamente!\")\n",
        "          else:\n",
        "            print(\"Opção errada! Tente novamente!\")  \n",
        "      else:\n",
        "        print(\"Opção errada! Tente novamente!\")\n",
        "    elif(escolha == 2):\n",
        "      escolha = int(input(\"É Aquático? Responda 1 para Sim ou 2 para Não. Somente o número\")) #É Aquático\n",
        "      if(escolha == 1):   \n",
        "        escolha = int(input(\"É coberto d'água? Responda 1 para Sim ou 2 para Não. Somente o número\"))\n",
        "        if(escolha == 1):\n",
        "          print(\"Você escolheu Submarino\")\n",
        "        elif(escolha == 2):\n",
        "          escolha = int(input(\"Navega na água? Responda 1 para Sim ou 2 para Não. Somente o número\"))\n",
        "          if(escolha == 1):\n",
        "            escolha = int(input(\"Possui vela? Responda 1 para Sim ou 2 para Não. Somente o número\"))\n",
        "            if(escolha == 1):\n",
        "              print(\"Você escolheu Barco\")\n",
        "            elif(escolha == 2):\n",
        "              escolha = int(input(\"Tem motor? Responda 1 para Sim ou 2 para Não. Somente o número\"))\n",
        "              if(escolha == 1):\n",
        "                escolha = int(input(\"É alto? Responda 1 para Sim ou 2 para Não. Somente o número\"))\n",
        "                if(escolha == 1):\n",
        "                  print(\"Você escolheu Navio\")\n",
        "                elif(escolha == 2):\n",
        "                  escolha = int(input(\"Pode ser descoberto? Responda 1 para Sim ou 2 para Não. Somente o número\"))\n",
        "                  if(escolha == 1):\n",
        "                    print(\"Você escolheu Lancha\")\n",
        "                  else:\n",
        "                    print(\"Opção errada! Tente novamente\")\n",
        "                else:\n",
        "                  print(\"Opção errada! Tente novamente\")\n",
        "              else:\n",
        "                print(\"Opção errada! Tente novamente!\")\n",
        "              \n",
        "            else:\n",
        "              print(\"Opção errada! Tente novamente!\")\n",
        "          else:\n",
        "            print(\"Opção errada! Tente novamente!\")\n",
        "        else:\n",
        "          print(\"Opção errada! Tente novamente!\")\n",
        "      else:\n",
        "        print(\"Opção errada! Tente novamente!\")\n",
        "      \n",
        "  else:\n",
        "    print(\"Opção errada! Tente novamente!\")\n",
        "  print(\"A opção escolhida foi \", opcao) #validando se o algoritmo deduziu corretamente. \n",
        "\n",
        "\n"
      ],
      "metadata": {
        "id": "scufcIYVtp6L"
      },
      "execution_count": 19,
      "outputs": []
    },
    {
      "cell_type": "markdown",
      "source": [
        "## Execução da função adivinhando"
      ],
      "metadata": {
        "id": "EacPG06mMsgX"
      }
    },
    {
      "cell_type": "code",
      "source": [
        "adivinhando(opcao)"
      ],
      "metadata": {
        "colab": {
          "base_uri": "https://localhost:8080/"
        },
        "id": "7v_kzVrF7gPo",
        "outputId": "b5abd447-8678-4ac7-d044-43f9bdb3ea11"
      },
      "execution_count": 27,
      "outputs": [
        {
          "output_type": "stream",
          "name": "stdout",
          "text": [
            "É terrestre? Responda 1 para Sim ou 2 para Não. Somente o número2\n",
            "É Aéreo? Responda 1 para Sim ou 2 para Não. Somente o número2\n",
            "É Aquático? Responda 1 para Sim ou 2 para Não. Somente o número1\n",
            "É coberto d'água? Responda 1 para Sim ou 2 para Não. Somente o número2\n",
            "Navega na água? Responda 1 para Sim ou 2 para Não. Somente o número1\n",
            "Possui vela? Responda 1 para Sim ou 2 para Não. Somente o número2\n",
            "Tem motor? Responda 1 para Sim ou 2 para Não. Somente o número1\n",
            "É alto? Responda 1 para Sim ou 2 para Não. Somente o número2\n",
            "Pode ser descoberto? Responda 1 para Sim ou 2 para Não. Somente o número1\n",
            "Você escolheu Lancha\n",
            "A opção escolhida foi  15\n"
          ]
        }
      ]
    }
  ]
}

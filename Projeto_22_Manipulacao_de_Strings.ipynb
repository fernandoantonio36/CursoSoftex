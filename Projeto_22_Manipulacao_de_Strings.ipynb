{
  "nbformat": 4,
  "nbformat_minor": 0,
  "metadata": {
    "colab": {
      "name": "Projeto_22_Manipulacao_de_Strings",
      "provenance": [],
      "collapsed_sections": [],
      "authorship_tag": "ABX9TyPn0QwQJYLw9yuzUdfI9Frf",
      "include_colab_link": true
    },
    "kernelspec": {
      "name": "python3",
      "display_name": "Python 3"
    },
    "language_info": {
      "name": "python"
    }
  },
  "cells": [
    {
      "cell_type": "markdown",
      "metadata": {
        "id": "view-in-github",
        "colab_type": "text"
      },
      "source": [
        "<a href=\"https://colab.research.google.com/github/fernandoantonio36/CursoSoftex/blob/main/Projeto_22_Manipulacao_de_Strings.ipynb\" target=\"_parent\"><img src=\"https://colab.research.google.com/assets/colab-badge.svg\" alt=\"Open In Colab\"/></a>"
      ]
    },
    {
      "cell_type": "markdown",
      "source": [
        "## Programação Orientada a Objetos - Manipulação de Strings\n",
        "\n",
        "Estruture três códigos, os quais devem conter uma função de manipulação de string que obtenha resultado."
      ],
      "metadata": {
        "id": "XGPDlBrRMRDw"
      }
    },
    {
      "cell_type": "markdown",
      "source": [
        "#### Função 1 - Recuperar as propriedades real e imaginária do Número complexo\n",
        "\n",
        "A entrada da função será uma string no seguinte formato: \"a+bj\", em que a é a parte real e b é a parte imaginária."
      ],
      "metadata": {
        "id": "V2tSKg8sf6cz"
      }
    },
    {
      "cell_type": "code",
      "source": [
        "def get_complex(complexo):\n",
        "      if(complexo.find(\"+\")==-1):\n",
        "       if(complexo[0]== \"-\"):\n",
        "         complexo = complexo [1:]\n",
        "         if(complexo.find(\"-\") != -1):\n",
        "           real, interm = complexo.rsplit(\"-\")\n",
        "           real = int(\"-\"+real)\n",
        "           imaginaria, vazio = interm.rsplit(\"j\")\n",
        "           imaginaria = int(\"-\"+imaginaria)\n",
        "         else:\n",
        "           real, interm = complexo.rsplit(\"-\")\n",
        "           real = int(\"-\"+real)\n",
        "           imaginaria, vazio = interm.rsplit(\"j\")\n",
        "           imaginaria = int(\"-\"+imaginaria)\n",
        "\n",
        "       else:\n",
        "         real, interm = complexo.rsplit(\"-\")\n",
        "         real = int(real)\n",
        "         imaginaria, vazio = interm.rsplit(\"j\")\n",
        "         imaginaria = int(\"-\"+imaginaria)\n",
        "     \n",
        "      else:\n",
        "       real,interm = complexo.rsplit(\"+\")\n",
        "       real = int(real)\n",
        "       imaginaria, vazio = interm.rsplit(\"j\")\n",
        "       imaginaria = int(imaginaria)\n",
        "      return real, imaginaria\n",
        " \n"
      ],
      "metadata": {
        "id": "HANkdRbf7lDT"
      },
      "execution_count": 3,
      "outputs": []
    },
    {
      "cell_type": "code",
      "source": [
        "real, imaginaria = get_complex(\"2+3j\")\n",
        "print(\"a parte real é\",real,\"e a parte imaginária é\", imaginaria)"
      ],
      "metadata": {
        "colab": {
          "base_uri": "https://localhost:8080/"
        },
        "id": "NFReNBnT9oU5",
        "outputId": "50fbd9d0-3462-4020-9693-2514bca7442a"
      },
      "execution_count": 5,
      "outputs": [
        {
          "output_type": "stream",
          "name": "stdout",
          "text": [
            "a parte real é 2 e a parte imaginária é 3\n"
          ]
        }
      ]
    },
    {
      "cell_type": "markdown",
      "source": [
        "#### Função 2 - Inverter as letras da string\n",
        "\n",
        "A entrada da função será uma string no seguinte formato de uma palavra ou frase e a saída é a entrada invertida."
      ],
      "metadata": {
        "id": "NxrZmq9B_tVh"
      }
    },
    {
      "cell_type": "code",
      "source": [
        "def inverter_string(string):\n",
        "  string = string\n",
        "  invertida = string[::-1]\n",
        "  return invertida"
      ],
      "metadata": {
        "id": "fZ-75Xis_sgG"
      },
      "execution_count": 14,
      "outputs": []
    },
    {
      "cell_type": "code",
      "source": [
        "print(inverter_string(\"Fernando\"))"
      ],
      "metadata": {
        "colab": {
          "base_uri": "https://localhost:8080/"
        },
        "id": "2A_gEbZPAepv",
        "outputId": "d0b593ab-d3ee-4676-bcf1-3ac5d5eef656"
      },
      "execution_count": 15,
      "outputs": [
        {
          "output_type": "stream",
          "name": "stdout",
          "text": [
            "odnanreF\n"
          ]
        }
      ]
    },
    {
      "cell_type": "markdown",
      "source": [
        "#### Função 3 - Transformar uma string qualquer para letras maiúsculas\n",
        "\n",
        "A entrada da função será uma string no seguinte formato de palavra ou frase e a saída será a entrada em letra maiúscula."
      ],
      "metadata": {
        "id": "_dHsLSxv_wTC"
      }
    },
    {
      "cell_type": "code",
      "source": [
        "def maiuscula(string):\n",
        "  string = string\n",
        "  maiuscula = string.upper()\n",
        "  return maiuscula"
      ],
      "metadata": {
        "id": "iA2LvSw5_v14"
      },
      "execution_count": 18,
      "outputs": []
    },
    {
      "cell_type": "code",
      "source": [
        "print(maiuscula(\"fernando\"))"
      ],
      "metadata": {
        "colab": {
          "base_uri": "https://localhost:8080/"
        },
        "id": "MtqUjhL1CT0i",
        "outputId": "17ad2aa1-96c3-469d-d6da-d9e109f78b4e"
      },
      "execution_count": 19,
      "outputs": [
        {
          "output_type": "stream",
          "name": "stdout",
          "text": [
            "FERNANDO\n"
          ]
        }
      ]
    }
  ]
}
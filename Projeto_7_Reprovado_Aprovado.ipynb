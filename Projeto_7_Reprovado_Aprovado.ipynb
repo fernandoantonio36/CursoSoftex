{
  "nbformat": 4,
  "nbformat_minor": 0,
  "metadata": {
    "colab": {
      "name": "Projeto_7_Reprovado_Aprovado",
      "provenance": [],
      "collapsed_sections": [],
      "authorship_tag": "ABX9TyNqhxu0thbQJoZo+VK7nPQf",
      "include_colab_link": true
    },
    "kernelspec": {
      "name": "python3",
      "display_name": "Python 3"
    },
    "language_info": {
      "name": "python"
    }
  },
  "cells": [
    {
      "cell_type": "markdown",
      "metadata": {
        "id": "view-in-github",
        "colab_type": "text"
      },
      "source": [
        "<a href=\"https://colab.research.google.com/github/fernandoantonio36/CursoSoftex/blob/main/Projeto_7_Reprovado_Aprovado.ipynb\" target=\"_parent\"><img src=\"https://colab.research.google.com/assets/colab-badge.svg\" alt=\"Open In Colab\"/></a>"
      ]
    },
    {
      "cell_type": "markdown",
      "source": [
        "##Nota - REPROVADO OU APROVADO\n",
        "\n",
        "Desenvolva um programa que utiliza o nome de um aluno, duas notas e a quantidade de faltas que ele teve. Conclua se o aluno está aprovado ou reprovado de acordo com as especificações:\n",
        "\n",
        "- Se a média do aluno for menor que sete, o sistema deve informar o nome do aluno e que ele está reprovado;\n",
        "- Se o aluno possuir mais de três faltas, o sistema deve informar o nome do aluno e que ele está reprovado;\n",
        "- Se a média do aluno for maior ou igual a sete, o sistema deve informar o nome do aluno e que ele está aprovado.\n",
        "\n",
        "No sistema, todos os valores devem estar armazenados em variáveis."
      ],
      "metadata": {
        "id": "XGPDlBrRMRDw"
      }
    },
    {
      "cell_type": "markdown",
      "source": [
        "#### Função coleta dos dados"
      ],
      "metadata": {
        "id": "-gpD_3IbxJaZ"
      }
    },
    {
      "cell_type": "code",
      "source": [
        "def aprovado():\n",
        "  aluno = input(\"Favor, insira o nome do aluno:\")\n",
        "  nota1 = int(input(\"Por favor, insira a primeira nota do aluno \"))\n",
        "  nota2 = int(input(\"Estamos quase lá!Agora, insira a segunda nota do aluno \"))\n",
        "  faltas = int(input(\"Favor, informar a quantidade de faltas do aluno \"))\n",
        "  media = (nota1+nota2)/2\n",
        "  if media < 7 or faltas > 3:\n",
        "    print(\"O aluno\", aluno, \"está REPROVADO\")\n",
        "  else:\n",
        "    print(\"O aluno\", aluno, \"está APROVADO\")"
      ],
      "metadata": {
        "id": "NaG5Qdl6xHmC"
      },
      "execution_count": 6,
      "outputs": []
    },
    {
      "cell_type": "markdown",
      "source": [
        ""
      ],
      "metadata": {
        "id": "XWAWMIrbvdBs"
      }
    },
    {
      "cell_type": "code",
      "source": [
        "aprovado()"
      ],
      "metadata": {
        "id": "3SqFtbMcEaF-",
        "colab": {
          "base_uri": "https://localhost:8080/"
        },
        "outputId": "768c1a06-f41b-469d-ed2b-f1e8b77dff72"
      },
      "execution_count": 7,
      "outputs": [
        {
          "output_type": "stream",
          "name": "stdout",
          "text": [
            "Favor, insira o nome do aluno:fernando\n",
            "Por favor, insira a primeira nota do aluno 9\n",
            "Estamos quase lá!Agora, insira a segunda nota do aluno 9\n",
            "Favor, informar a quantidade de faltas do aluno 4\n",
            "O aluno fernando está REPROVADO\n"
          ]
        }
      ]
    }
  ]
}
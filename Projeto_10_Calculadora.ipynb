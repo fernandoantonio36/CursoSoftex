{
  "nbformat": 4,
  "nbformat_minor": 0,
  "metadata": {
    "colab": {
      "name": "Projeto_10_Calculadora",
      "provenance": [],
      "collapsed_sections": [],
      "authorship_tag": "ABX9TyOHU+U3GbqE3lGIj7je4Vxe",
      "include_colab_link": true
    },
    "kernelspec": {
      "name": "python3",
      "display_name": "Python 3"
    },
    "language_info": {
      "name": "python"
    }
  },
  "cells": [
    {
      "cell_type": "markdown",
      "metadata": {
        "id": "view-in-github",
        "colab_type": "text"
      },
      "source": [
        "<a href=\"https://colab.research.google.com/github/fernandoantonio36/CursoSoftex/blob/main/Projeto_10_Calculadora.ipynb\" target=\"_parent\"><img src=\"https://colab.research.google.com/assets/colab-badge.svg\" alt=\"Open In Colab\"/></a>"
      ]
    },
    {
      "cell_type": "markdown",
      "source": [
        "##Projeto Calculadora\n",
        "\n",
        "Faça uma função calculadora de dois números com três parâmetros: os dois primeiros serão os números da operação e o terceiro será a entrada que definirá a operação a ser executada. Considera a seguinte definição:\n",
        "1. Soma\n",
        "2. Subtração\n",
        "3. Multiplicação\n",
        "4. Divisão\n",
        "5. Resto da Divisão\n",
        "\n",
        "Caso seja inserido um número de operação que não exista, o resultado deverá ser 0. "
      ],
      "metadata": {
        "id": "XGPDlBrRMRDw"
      }
    },
    {
      "cell_type": "markdown",
      "source": [
        "####Definição da função calculadora"
      ],
      "metadata": {
        "id": "_5m_zxRSYmPw"
      }
    },
    {
      "cell_type": "code",
      "source": [
        "def calculadora(operando1, operando2, operador):\n",
        "  num1 = operando1\n",
        "  num2 = operando2\n",
        "  op = operador\n",
        "  if(operador == 1):\n",
        "    print(\"Você escolheu a opção 1 - SOMA\")\n",
        "    return num1+num2\n",
        "  elif(operador == 2):\n",
        "    print(\"Você escolheu a opção 2 - SUBTRAÇÃO\")\n",
        "    return num1-num2  \n",
        "  elif(operador == 3):\n",
        "    print(\"Você escolheu a opção 3 - MULTIPLICAÇÃO\")\n",
        "    return num1*num2  \n",
        "  elif(operador == 4):\n",
        "    print(\"Você escolheu a opção 4 - DIVISÃO\")\n",
        "    return num1/num2\n",
        "  elif(operador == 5):\n",
        "    print(\"Você escolheu a opção 5 - RESTO DA DIVISÃO\")\n",
        "    return(num1%num2)\n",
        "  \n",
        "  else:\n",
        "    return 0\n",
        "\n",
        "  \n"
      ],
      "metadata": {
        "id": "NaG5Qdl6xHmC"
      },
      "execution_count": 3,
      "outputs": []
    },
    {
      "cell_type": "markdown",
      "source": [
        "#### Execução da função calculadora\n"
      ],
      "metadata": {
        "id": "XWAWMIrbvdBs"
      }
    },
    {
      "cell_type": "code",
      "source": [
        "print(\"Prezado usuário, digite os números e a operação conforme solicitado abaixo\")\n",
        "operador = int(input(\"Favor, digite o número da operação conforme abaixo:\\n 1 - SOMA\\n 2 - SUBTRAÇÃO\\n 3 - MULTIPLICAÇÃO\\n 4 - DIVISÃO\\n 5 - RESTO DA DIVISÃO\\n\"))\n",
        "operando1 = int(input(\"Digite o primeiro número da operação\\n\"))\n",
        "operando2 = int(input(\"Digite o segundo número da operação\\n\"))\n",
        "resultado = calculadora(operando1, operando2, operador)\n",
        "print(\"O resultado da operação foi \", resultado)"
      ],
      "metadata": {
        "id": "3SqFtbMcEaF-",
        "colab": {
          "base_uri": "https://localhost:8080/"
        },
        "outputId": "51046a9c-92c3-47d8-945b-5573bce929b6"
      },
      "execution_count": 8,
      "outputs": [
        {
          "output_type": "stream",
          "name": "stdout",
          "text": [
            "Prezado usuário, digite os números e a operação conforme solicitado abaixo\n",
            "Favor, digite o número da operação conforme abaixo:\n",
            " 1 - SOMA\n",
            " 2 - SUBTRAÇÃO\n",
            " 3 - MULTIPLICAÇÃO\n",
            " 4 - DIVISÃO\n",
            " 5 - RESTO DA DIVISÃO\n",
            "5\n",
            "Digite o primeiro número da operação\n",
            "12\n",
            "Digite o segundo número da operação\n",
            "10\n",
            "Você escolheu a opção 5 - RESTO DA DIVISÃO\n",
            "O resultado da operação foi  2\n"
          ]
        }
      ]
    }
  ]
}

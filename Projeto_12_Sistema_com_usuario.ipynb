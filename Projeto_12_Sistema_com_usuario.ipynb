{
  "nbformat": 4,
  "nbformat_minor": 0,
  "metadata": {
    "colab": {
      "name": "Projeto_12_Sistema_com_usuario",
      "provenance": [],
      "collapsed_sections": [],
      "authorship_tag": "ABX9TyOT7w8YRq0OL/oNRdtSLQrZ",
      "include_colab_link": true
    },
    "kernelspec": {
      "name": "python3",
      "display_name": "Python 3"
    },
    "language_info": {
      "name": "python"
    }
  },
  "cells": [
    {
      "cell_type": "markdown",
      "metadata": {
        "id": "view-in-github",
        "colab_type": "text"
      },
      "source": [
        "<a href=\"https://colab.research.google.com/github/fernandoantonio36/CursoSoftex/blob/main/Projeto_12_Sistema_com_usuario.ipynb\" target=\"_parent\"><img src=\"https://colab.research.google.com/assets/colab-badge.svg\" alt=\"Open In Colab\"/></a>"
      ]
    },
    {
      "cell_type": "markdown",
      "source": [
        "##Projeto Sistema com Usuário\n",
        "Desenvolva um programa que recebe do usuário nome completo e ano de nascimento que seja entre 1922 e 2021. A partir dessas informações, o sistema mostrará o nome do usuário e a idade que completou, ou completará, no ano atual (2022).\n",
        "\n",
        "Caso o usuário não digite um número ou apareça um inválido no campo do ano, o sistema informará o erro e continuará perguntando até que um valor correto seja preenchido."
      ],
      "metadata": {
        "id": "XGPDlBrRMRDw"
      }
    },
    {
      "cell_type": "markdown",
      "source": [
        "#### Importando biblioteca"
      ],
      "metadata": {
        "id": "Nu7R1U7gl1Hr"
      }
    },
    {
      "cell_type": "code",
      "source": [
        "import time"
      ],
      "metadata": {
        "id": "ngAoiz252k9j"
      },
      "execution_count": 17,
      "outputs": []
    },
    {
      "cell_type": "markdown",
      "source": [
        "####Definição da função idade do Usuario"
      ],
      "metadata": {
        "id": "_5m_zxRSYmPw"
      }
    },
    {
      "cell_type": "code",
      "source": [
        "def idadeUsuario(nome, ano):\n",
        "  padrao = 1\n",
        "  \n",
        "  if(type(ano)==type(padrao)):\n",
        "    nome = nome\n",
        "    ano = ano\n",
        "    idade = 2022-ano\n",
        "    print(\"Olá, \", nome, \". O senhor completou ou completará, em 2022,\", idade,\"anos\")\n",
        "    return 0\n",
        "  else:\n",
        "    raise Exception(\"Você não digitou um número para ano.\")\n",
        "\n",
        "  \n"
      ],
      "metadata": {
        "id": "NaG5Qdl6xHmC"
      },
      "execution_count": 19,
      "outputs": []
    },
    {
      "cell_type": "code",
      "source": [
        ""
      ],
      "metadata": {
        "id": "8Ssw86yLvnvW"
      },
      "execution_count": null,
      "outputs": []
    },
    {
      "cell_type": "markdown",
      "source": [
        "#### Execução do Sistema \n"
      ],
      "metadata": {
        "id": "XWAWMIrbvdBs"
      }
    },
    {
      "cell_type": "code",
      "source": [
        "try:\n",
        "  condicao = 1\n",
        "  while(condicao != 0):\n",
        "    nome = input(\"Prezado usuário, digite seu nome completo!\")\n",
        "    ano = int(input(\"Entre 1922 e 2021, qual foi o ano que você nasceu?\\n\"))\n",
        "    if(1922 <= ano <= 2021):\n",
        "      condicao = idadeUsuario(nome, ano)\n",
        "    else:\n",
        "      print(\"O ano inserido precisa estar entre 1922 e 2021\")\n",
        "except Exception as err:\n",
        "  print(\"Ocorreu um erro\")\n",
        "  time.sleep(3)\n",
        "  print(\"Levantando o erro.\", end=\"\")\n",
        "  time.sleep(1)\n",
        "  print(\".\", end=\"\")\n",
        "  time.sleep(1)\n",
        "  print(\".\")\n",
        "  time.sleep(1)\n",
        "  print(err)\n",
        "        "
      ],
      "metadata": {
        "id": "3SqFtbMcEaF-",
        "colab": {
          "base_uri": "https://localhost:8080/"
        },
        "outputId": "d048b278-076c-47e7-f1ab-45a214cf2c13"
      },
      "execution_count": 20,
      "outputs": [
        {
          "output_type": "stream",
          "name": "stdout",
          "text": [
            "Prezado usuário, digite seu nome completo!Fernando\n",
            "Entre 1922 e 2021, qual foi o ano que você nasceu?\n",
            "texto\n",
            "Ocorreu um erro\n",
            "Levantando o erro...\n",
            "invalid literal for int() with base 10: 'texto'\n"
          ]
        }
      ]
    }
  ]
}